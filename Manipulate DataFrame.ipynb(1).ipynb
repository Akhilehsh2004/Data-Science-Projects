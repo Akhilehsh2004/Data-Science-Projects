{
 "cells": [
  {
   "cell_type": "markdown",
   "id": "2a433882-c891-45c5-a27d-54f0993c304c",
   "metadata": {},
   "source": [
    "##  Akhilesh Pant (AU FTCA:  MCA)\n"
   ]
  },
  {
   "cell_type": "markdown",
   "id": "afc216d2-e870-41ff-8004-cd84c878864b",
   "metadata": {},
   "source": [
    "## Manipulate DataFrame"
   ]
  },
  {
   "cell_type": "markdown",
   "id": "615b15b9-68bd-41d1-8ca2-e30024ba56c3",
   "metadata": {},
   "source": [
    "## 🦉Practice Problem"
   ]
  },
  {
   "cell_type": "markdown",
   "id": "2b9fc171-6e92-4b1e-85b1-e72d004a5d9d",
   "metadata": {},
   "source": [
    "## Practice Problem: Analyzing Movie Trends on an Indian Streaming Platform"
   ]
  },
  {
   "cell_type": "markdown",
   "id": "3add722d-db30-4834-8684-9e88b62b4b1c",
   "metadata": {},
   "source": [
    "### An Indian streaming platform like Hotstar or Zee5 wants to analyze user preferences and movie trends to improve content recommendations and acquisition strategies. They have collected data on movie titles, genres, languages, release years, average user ratings, and viewership counts.\n",
    "\n",
    "df['column_name']: Filters movies in the 'Action' genre.\n",
    "df.loc[]: Retrieves details of the 5th movie in the dataset.\n",
    "df.isna().sum(): Checks for missing values in each column.\n",
    "df.duplicated(): Identifies any duplicate movie entries.\n",
    "df.nunique(): Counts the number of unique languages in the dataset.\n",
    "df.unique(): Lists all the unique genres present.\n",
    "df.value_counts(): Shows the number of movies in each language.\n",
    "df.sort_values(): Sorts the movies by viewership in descending order.\n",
    "df.query(): Filters movies with an average rating greater than 4.5.\n"
   ]
  },
  {
   "cell_type": "code",
   "execution_count": 8,
   "id": "45d3229f-6054-49ca-a83f-3e6cf885171e",
   "metadata": {},
   "outputs": [],
   "source": [
    "import pandas as pd\n",
    "\n",
    "# Sample movie data (as a list of dictionaries)\n",
    "data = [\n",
    "    {'Movie Title': 'RRR', 'Genre': 'Action', 'Language': 'Telugu', 'Release Year': 2022, 'Average Rating': 4.8, 'Viewership (in millions)': 12.5},\n",
    "    {'Movie Title': 'K.G.F: Chapter 2', 'Genre': 'Action', 'Language': 'Kannada', 'Release Year': 2022, 'Average Rating': 4.7, 'Viewership (in millions)': 11.8},\n",
    "    {'Movie Title': 'K.G.F: Chapter 2', 'Genre': 'Action', 'Language': 'Kannada', 'Release Year': 2022, 'Average Rating': 4.7, 'Viewership (in millions)': 11.8},\n",
    "    {'Movie Title': 'Pushpa: The Rise', 'Genre': 'Action', 'Language': 'Telugu', 'Release Year': 2021, 'Average Rating': 4.6, 'Viewership (in millions)': 10.2},\n",
    "    {'Movie Title': 'Gangubai Kathiawadi', 'Genre': 'Drama', 'Language': 'Hindi', 'Release Year': 2022, 'Average Rating': 4.5, 'Viewership (in millions)': 8.5},\n",
    "    {'Movie Title': 'The Kashmir Files', 'Genre': 'Drama', 'Language': 'Hindi', 'Release Year': 2022, 'Average Rating': 4.4, 'Viewership (in millions)': 7.8},\n",
    "    {'Movie Title': 'Bhool Bhulaiyaa 2', 'Genre': 'Comedy', 'Language': 'Hindi', 'Release Year': 2022, 'Average Rating': 4.3, 'Viewership (in millions)': 7.2},\n",
    "    {'Movie Title': 'Vikram', 'Genre': 'Action', 'Language': 'Tamil', 'Release Year': 2022, 'Average Rating': 4.7, 'Viewership (in millions)': 9.6},\n",
    "    {'Movie Title': 'Darlings', 'Genre': 'Dark Comedy', 'Language': 'Hindi', 'Release Year': 2022, 'Average Rating': 4.2, 'Viewership (in millions)': 6.5},\n",
    "    {'Movie Title': 'Brahmāstra: Part One – Shiva', 'Genre': 'Fantasy', 'Language': 'Hindi', 'Release Year': 2022, 'Average Rating': 4.0, 'Viewership (in millions)': 6.0},\n",
    "    {'Movie Title': 'Chandigarh Kare Aashiqui', 'Genre': 'Romance', 'Language': 'Hindi', 'Release Year': 2021, 'Average Rating': 4.1, 'Viewership (in millions)': 5.8}\n",
    "]\n",
    "\n",
    "# Create the DataFrame\n",
    "movies_df = pd.DataFrame(data)"
   ]
  },
  {
   "cell_type": "code",
   "execution_count": 10,
   "id": "59237895-da0a-4f6a-b516-a2a5330096c5",
   "metadata": {},
   "outputs": [
    {
     "data": {
      "text/html": [
       "<div>\n",
       "<style scoped>\n",
       "    .dataframe tbody tr th:only-of-type {\n",
       "        vertical-align: middle;\n",
       "    }\n",
       "\n",
       "    .dataframe tbody tr th {\n",
       "        vertical-align: top;\n",
       "    }\n",
       "\n",
       "    .dataframe thead th {\n",
       "        text-align: right;\n",
       "    }\n",
       "</style>\n",
       "<table border=\"1\" class=\"dataframe\">\n",
       "  <thead>\n",
       "    <tr style=\"text-align: right;\">\n",
       "      <th></th>\n",
       "      <th>Movie Title</th>\n",
       "      <th>Genre</th>\n",
       "      <th>Language</th>\n",
       "      <th>Release Year</th>\n",
       "      <th>Average Rating</th>\n",
       "      <th>Viewership (in millions)</th>\n",
       "    </tr>\n",
       "  </thead>\n",
       "  <tbody>\n",
       "    <tr>\n",
       "      <th>0</th>\n",
       "      <td>RRR</td>\n",
       "      <td>Action</td>\n",
       "      <td>Telugu</td>\n",
       "      <td>2022</td>\n",
       "      <td>4.8</td>\n",
       "      <td>12.5</td>\n",
       "    </tr>\n",
       "    <tr>\n",
       "      <th>1</th>\n",
       "      <td>K.G.F: Chapter 2</td>\n",
       "      <td>Action</td>\n",
       "      <td>Kannada</td>\n",
       "      <td>2022</td>\n",
       "      <td>4.7</td>\n",
       "      <td>11.8</td>\n",
       "    </tr>\n",
       "    <tr>\n",
       "      <th>2</th>\n",
       "      <td>K.G.F: Chapter 2</td>\n",
       "      <td>Action</td>\n",
       "      <td>Kannada</td>\n",
       "      <td>2022</td>\n",
       "      <td>4.7</td>\n",
       "      <td>11.8</td>\n",
       "    </tr>\n",
       "    <tr>\n",
       "      <th>3</th>\n",
       "      <td>Pushpa: The Rise</td>\n",
       "      <td>Action</td>\n",
       "      <td>Telugu</td>\n",
       "      <td>2021</td>\n",
       "      <td>4.6</td>\n",
       "      <td>10.2</td>\n",
       "    </tr>\n",
       "    <tr>\n",
       "      <th>7</th>\n",
       "      <td>Vikram</td>\n",
       "      <td>Action</td>\n",
       "      <td>Tamil</td>\n",
       "      <td>2022</td>\n",
       "      <td>4.7</td>\n",
       "      <td>9.6</td>\n",
       "    </tr>\n",
       "  </tbody>\n",
       "</table>\n",
       "</div>"
      ],
      "text/plain": [
       "        Movie Title   Genre Language  Release Year  Average Rating  \\\n",
       "0               RRR  Action   Telugu          2022             4.8   \n",
       "1  K.G.F: Chapter 2  Action  Kannada          2022             4.7   \n",
       "2  K.G.F: Chapter 2  Action  Kannada          2022             4.7   \n",
       "3  Pushpa: The Rise  Action   Telugu          2021             4.6   \n",
       "7            Vikram  Action    Tamil          2022             4.7   \n",
       "\n",
       "   Viewership (in millions)  \n",
       "0                      12.5  \n",
       "1                      11.8  \n",
       "2                      11.8  \n",
       "3                      10.2  \n",
       "7                       9.6  "
      ]
     },
     "execution_count": 10,
     "metadata": {},
     "output_type": "execute_result"
    }
   ],
   "source": [
    "# 1. Accessing columns: df['column_name']\n",
    "movies_df[movies_df['Genre'] == 'Action']"
   ]
  },
  {
   "cell_type": "code",
   "execution_count": 12,
   "id": "0d8a87cb-4f83-4727-be91-26a304b42dbd",
   "metadata": {},
   "outputs": [
    {
     "data": {
      "text/plain": [
       "Movie Title                 Gangubai Kathiawadi\n",
       "Genre                                     Drama\n",
       "Language                                  Hindi\n",
       "Release Year                               2022\n",
       "Average Rating                              4.5\n",
       "Viewership (in millions)                    8.5\n",
       "Name: 4, dtype: object"
      ]
     },
     "execution_count": 12,
     "metadata": {},
     "output_type": "execute_result"
    }
   ],
   "source": [
    "# 2. Accessing rows and columns: df.loc[]\n",
    "movies_df.loc[4]  # Access the 5th row (index 4)"
   ]
  },
  {
   "cell_type": "code",
   "execution_count": 14,
   "id": "42b0bde3-0a6a-4d3b-996b-a053a9dbd097",
   "metadata": {},
   "outputs": [
    {
     "data": {
      "text/plain": [
       "Movie Title                 0\n",
       "Genre                       0\n",
       "Language                    0\n",
       "Release Year                0\n",
       "Average Rating              0\n",
       "Viewership (in millions)    0\n",
       "dtype: int64"
      ]
     },
     "execution_count": 14,
     "metadata": {},
     "output_type": "execute_result"
    }
   ],
   "source": [
    "# 3. Finding missing values: df.isna().sum()\n",
    "movies_df.isna().sum()"
   ]
  },
  {
   "cell_type": "code",
   "execution_count": 16,
   "id": "c6f4e4a6-7c54-441a-9616-e47e65cbdd7a",
   "metadata": {},
   "outputs": [
    {
     "data": {
      "text/html": [
       "<div>\n",
       "<style scoped>\n",
       "    .dataframe tbody tr th:only-of-type {\n",
       "        vertical-align: middle;\n",
       "    }\n",
       "\n",
       "    .dataframe tbody tr th {\n",
       "        vertical-align: top;\n",
       "    }\n",
       "\n",
       "    .dataframe thead th {\n",
       "        text-align: right;\n",
       "    }\n",
       "</style>\n",
       "<table border=\"1\" class=\"dataframe\">\n",
       "  <thead>\n",
       "    <tr style=\"text-align: right;\">\n",
       "      <th></th>\n",
       "      <th>Movie Title</th>\n",
       "      <th>Genre</th>\n",
       "      <th>Language</th>\n",
       "      <th>Release Year</th>\n",
       "      <th>Average Rating</th>\n",
       "      <th>Viewership (in millions)</th>\n",
       "    </tr>\n",
       "  </thead>\n",
       "  <tbody>\n",
       "    <tr>\n",
       "      <th>2</th>\n",
       "      <td>K.G.F: Chapter 2</td>\n",
       "      <td>Action</td>\n",
       "      <td>Kannada</td>\n",
       "      <td>2022</td>\n",
       "      <td>4.7</td>\n",
       "      <td>11.8</td>\n",
       "    </tr>\n",
       "  </tbody>\n",
       "</table>\n",
       "</div>"
      ],
      "text/plain": [
       "        Movie Title   Genre Language  Release Year  Average Rating  \\\n",
       "2  K.G.F: Chapter 2  Action  Kannada          2022             4.7   \n",
       "\n",
       "   Viewership (in millions)  \n",
       "2                      11.8  "
      ]
     },
     "execution_count": 16,
     "metadata": {},
     "output_type": "execute_result"
    }
   ],
   "source": [
    "# 4. Identifying duplicates: df.duplicated()\n",
    "movies_df[movies_df.duplicated()]"
   ]
  },
  {
   "cell_type": "code",
   "execution_count": 18,
   "id": "cfcc8ac6-8d31-46ab-9806-4409058f00d7",
   "metadata": {},
   "outputs": [
    {
     "data": {
      "text/plain": [
       "4"
      ]
     },
     "execution_count": 18,
     "metadata": {},
     "output_type": "execute_result"
    }
   ],
   "source": [
    "# 5. Counting unique values: df.nunique()\n",
    "movies_df['Language'].nunique()"
   ]
  },
  {
   "cell_type": "code",
   "execution_count": 20,
   "id": "92135adb-5251-4d2f-9e03-29ec6f5c681e",
   "metadata": {},
   "outputs": [
    {
     "data": {
      "text/plain": [
       "array(['Action', 'Drama', 'Comedy', 'Dark Comedy', 'Fantasy', 'Romance'],\n",
       "      dtype=object)"
      ]
     },
     "execution_count": 20,
     "metadata": {},
     "output_type": "execute_result"
    }
   ],
   "source": [
    "# 6. Unique values: df.unique()\n",
    "movies_df['Genre'].unique()"
   ]
  },
  {
   "cell_type": "code",
   "execution_count": 22,
   "id": "44a39814-a6dc-40e9-b4c5-45fae1fb5589",
   "metadata": {},
   "outputs": [
    {
     "data": {
      "text/plain": [
       "Language\n",
       "Hindi      6\n",
       "Telugu     2\n",
       "Kannada    2\n",
       "Tamil      1\n",
       "Name: count, dtype: int64"
      ]
     },
     "execution_count": 22,
     "metadata": {},
     "output_type": "execute_result"
    }
   ],
   "source": [
    "# 7. Counting values: df.value_counts()\n",
    "movies_df['Language'].value_counts()"
   ]
  },
  {
   "cell_type": "code",
   "execution_count": 24,
   "id": "f0fb8e39-af83-4d2f-b1a4-b77fe7b5ac1c",
   "metadata": {},
   "outputs": [
    {
     "data": {
      "text/html": [
       "<div>\n",
       "<style scoped>\n",
       "    .dataframe tbody tr th:only-of-type {\n",
       "        vertical-align: middle;\n",
       "    }\n",
       "\n",
       "    .dataframe tbody tr th {\n",
       "        vertical-align: top;\n",
       "    }\n",
       "\n",
       "    .dataframe thead th {\n",
       "        text-align: right;\n",
       "    }\n",
       "</style>\n",
       "<table border=\"1\" class=\"dataframe\">\n",
       "  <thead>\n",
       "    <tr style=\"text-align: right;\">\n",
       "      <th></th>\n",
       "      <th>Movie Title</th>\n",
       "      <th>Genre</th>\n",
       "      <th>Language</th>\n",
       "      <th>Release Year</th>\n",
       "      <th>Average Rating</th>\n",
       "      <th>Viewership (in millions)</th>\n",
       "    </tr>\n",
       "  </thead>\n",
       "  <tbody>\n",
       "    <tr>\n",
       "      <th>0</th>\n",
       "      <td>RRR</td>\n",
       "      <td>Action</td>\n",
       "      <td>Telugu</td>\n",
       "      <td>2022</td>\n",
       "      <td>4.8</td>\n",
       "      <td>12.5</td>\n",
       "    </tr>\n",
       "    <tr>\n",
       "      <th>1</th>\n",
       "      <td>K.G.F: Chapter 2</td>\n",
       "      <td>Action</td>\n",
       "      <td>Kannada</td>\n",
       "      <td>2022</td>\n",
       "      <td>4.7</td>\n",
       "      <td>11.8</td>\n",
       "    </tr>\n",
       "    <tr>\n",
       "      <th>2</th>\n",
       "      <td>K.G.F: Chapter 2</td>\n",
       "      <td>Action</td>\n",
       "      <td>Kannada</td>\n",
       "      <td>2022</td>\n",
       "      <td>4.7</td>\n",
       "      <td>11.8</td>\n",
       "    </tr>\n",
       "    <tr>\n",
       "      <th>3</th>\n",
       "      <td>Pushpa: The Rise</td>\n",
       "      <td>Action</td>\n",
       "      <td>Telugu</td>\n",
       "      <td>2021</td>\n",
       "      <td>4.6</td>\n",
       "      <td>10.2</td>\n",
       "    </tr>\n",
       "    <tr>\n",
       "      <th>7</th>\n",
       "      <td>Vikram</td>\n",
       "      <td>Action</td>\n",
       "      <td>Tamil</td>\n",
       "      <td>2022</td>\n",
       "      <td>4.7</td>\n",
       "      <td>9.6</td>\n",
       "    </tr>\n",
       "    <tr>\n",
       "      <th>4</th>\n",
       "      <td>Gangubai Kathiawadi</td>\n",
       "      <td>Drama</td>\n",
       "      <td>Hindi</td>\n",
       "      <td>2022</td>\n",
       "      <td>4.5</td>\n",
       "      <td>8.5</td>\n",
       "    </tr>\n",
       "    <tr>\n",
       "      <th>5</th>\n",
       "      <td>The Kashmir Files</td>\n",
       "      <td>Drama</td>\n",
       "      <td>Hindi</td>\n",
       "      <td>2022</td>\n",
       "      <td>4.4</td>\n",
       "      <td>7.8</td>\n",
       "    </tr>\n",
       "    <tr>\n",
       "      <th>6</th>\n",
       "      <td>Bhool Bhulaiyaa 2</td>\n",
       "      <td>Comedy</td>\n",
       "      <td>Hindi</td>\n",
       "      <td>2022</td>\n",
       "      <td>4.3</td>\n",
       "      <td>7.2</td>\n",
       "    </tr>\n",
       "    <tr>\n",
       "      <th>8</th>\n",
       "      <td>Darlings</td>\n",
       "      <td>Dark Comedy</td>\n",
       "      <td>Hindi</td>\n",
       "      <td>2022</td>\n",
       "      <td>4.2</td>\n",
       "      <td>6.5</td>\n",
       "    </tr>\n",
       "    <tr>\n",
       "      <th>9</th>\n",
       "      <td>Brahmāstra: Part One – Shiva</td>\n",
       "      <td>Fantasy</td>\n",
       "      <td>Hindi</td>\n",
       "      <td>2022</td>\n",
       "      <td>4.0</td>\n",
       "      <td>6.0</td>\n",
       "    </tr>\n",
       "    <tr>\n",
       "      <th>10</th>\n",
       "      <td>Chandigarh Kare Aashiqui</td>\n",
       "      <td>Romance</td>\n",
       "      <td>Hindi</td>\n",
       "      <td>2021</td>\n",
       "      <td>4.1</td>\n",
       "      <td>5.8</td>\n",
       "    </tr>\n",
       "  </tbody>\n",
       "</table>\n",
       "</div>"
      ],
      "text/plain": [
       "                     Movie Title        Genre Language  Release Year  \\\n",
       "0                            RRR       Action   Telugu          2022   \n",
       "1               K.G.F: Chapter 2       Action  Kannada          2022   \n",
       "2               K.G.F: Chapter 2       Action  Kannada          2022   \n",
       "3               Pushpa: The Rise       Action   Telugu          2021   \n",
       "7                         Vikram       Action    Tamil          2022   \n",
       "4            Gangubai Kathiawadi        Drama    Hindi          2022   \n",
       "5              The Kashmir Files        Drama    Hindi          2022   \n",
       "6              Bhool Bhulaiyaa 2       Comedy    Hindi          2022   \n",
       "8                       Darlings  Dark Comedy    Hindi          2022   \n",
       "9   Brahmāstra: Part One – Shiva      Fantasy    Hindi          2022   \n",
       "10      Chandigarh Kare Aashiqui      Romance    Hindi          2021   \n",
       "\n",
       "    Average Rating  Viewership (in millions)  \n",
       "0              4.8                      12.5  \n",
       "1              4.7                      11.8  \n",
       "2              4.7                      11.8  \n",
       "3              4.6                      10.2  \n",
       "7              4.7                       9.6  \n",
       "4              4.5                       8.5  \n",
       "5              4.4                       7.8  \n",
       "6              4.3                       7.2  \n",
       "8              4.2                       6.5  \n",
       "9              4.0                       6.0  \n",
       "10             4.1                       5.8  "
      ]
     },
     "execution_count": 24,
     "metadata": {},
     "output_type": "execute_result"
    }
   ],
   "source": [
    "# 8. Sorting: df.sort_values()\n",
    "movies_df.sort_values('Viewership (in millions)', ascending=False)"
   ]
  },
  {
   "cell_type": "code",
   "execution_count": 26,
   "id": "903ade63-4d46-47e5-a647-7d97e3cc8ace",
   "metadata": {},
   "outputs": [
    {
     "data": {
      "text/html": [
       "<div>\n",
       "<style scoped>\n",
       "    .dataframe tbody tr th:only-of-type {\n",
       "        vertical-align: middle;\n",
       "    }\n",
       "\n",
       "    .dataframe tbody tr th {\n",
       "        vertical-align: top;\n",
       "    }\n",
       "\n",
       "    .dataframe thead th {\n",
       "        text-align: right;\n",
       "    }\n",
       "</style>\n",
       "<table border=\"1\" class=\"dataframe\">\n",
       "  <thead>\n",
       "    <tr style=\"text-align: right;\">\n",
       "      <th></th>\n",
       "      <th>Movie Title</th>\n",
       "      <th>Genre</th>\n",
       "      <th>Language</th>\n",
       "      <th>Release Year</th>\n",
       "      <th>Average Rating</th>\n",
       "      <th>Viewership (in millions)</th>\n",
       "    </tr>\n",
       "  </thead>\n",
       "  <tbody>\n",
       "    <tr>\n",
       "      <th>0</th>\n",
       "      <td>RRR</td>\n",
       "      <td>Action</td>\n",
       "      <td>Telugu</td>\n",
       "      <td>2022</td>\n",
       "      <td>4.8</td>\n",
       "      <td>12.5</td>\n",
       "    </tr>\n",
       "    <tr>\n",
       "      <th>1</th>\n",
       "      <td>K.G.F: Chapter 2</td>\n",
       "      <td>Action</td>\n",
       "      <td>Kannada</td>\n",
       "      <td>2022</td>\n",
       "      <td>4.7</td>\n",
       "      <td>11.8</td>\n",
       "    </tr>\n",
       "    <tr>\n",
       "      <th>2</th>\n",
       "      <td>K.G.F: Chapter 2</td>\n",
       "      <td>Action</td>\n",
       "      <td>Kannada</td>\n",
       "      <td>2022</td>\n",
       "      <td>4.7</td>\n",
       "      <td>11.8</td>\n",
       "    </tr>\n",
       "    <tr>\n",
       "      <th>3</th>\n",
       "      <td>Pushpa: The Rise</td>\n",
       "      <td>Action</td>\n",
       "      <td>Telugu</td>\n",
       "      <td>2021</td>\n",
       "      <td>4.6</td>\n",
       "      <td>10.2</td>\n",
       "    </tr>\n",
       "    <tr>\n",
       "      <th>7</th>\n",
       "      <td>Vikram</td>\n",
       "      <td>Action</td>\n",
       "      <td>Tamil</td>\n",
       "      <td>2022</td>\n",
       "      <td>4.7</td>\n",
       "      <td>9.6</td>\n",
       "    </tr>\n",
       "  </tbody>\n",
       "</table>\n",
       "</div>"
      ],
      "text/plain": [
       "        Movie Title   Genre Language  Release Year  Average Rating  \\\n",
       "0               RRR  Action   Telugu          2022             4.8   \n",
       "1  K.G.F: Chapter 2  Action  Kannada          2022             4.7   \n",
       "2  K.G.F: Chapter 2  Action  Kannada          2022             4.7   \n",
       "3  Pushpa: The Rise  Action   Telugu          2021             4.6   \n",
       "7            Vikram  Action    Tamil          2022             4.7   \n",
       "\n",
       "   Viewership (in millions)  \n",
       "0                      12.5  \n",
       "1                      11.8  \n",
       "2                      11.8  \n",
       "3                      10.2  \n",
       "7                       9.6  "
      ]
     },
     "execution_count": 26,
     "metadata": {},
     "output_type": "execute_result"
    }
   ],
   "source": [
    "# 9. Filtering with query(): df.query()\n",
    "movies_df.query('`Average Rating` > 4.5')"
   ]
  },
  {
   "cell_type": "markdown",
   "id": "1ad837da-fd71-4725-80bd-480d6476b24b",
   "metadata": {},
   "source": [
    "## 🐌Exercise"
   ]
  },
  {
   "cell_type": "markdown",
   "id": "e3c7edb9-2257-4a8c-87cb-3ec931f35289",
   "metadata": {},
   "source": [
    "## Exercise 1: Analyzing Customer Demographics and Purchase Behavior for an Indian E-commerce Company"
   ]
  },
  {
   "cell_type": "markdown",
   "id": "e50c4a04-c16d-4661-9d78-86008e043c31",
   "metadata": {},
   "source": [
    "### An Indian e-commerce company like Flipkart or Amazon India wants to analyze customer demographics and purchase behavior to improve targeted marketing campaigns and product recommendations.They have collected data on customer IDs, ages, genders, locations (cities), purchase dates, product categories, and purchase amounts."
   ]
  },
  {
   "cell_type": "code",
   "execution_count": 34,
   "id": "7b37c294-1799-4b5c-b4f3-3dd925b96890",
   "metadata": {},
   "outputs": [
    {
     "data": {
      "text/html": [
       "<div>\n",
       "<style scoped>\n",
       "    .dataframe tbody tr th:only-of-type {\n",
       "        vertical-align: middle;\n",
       "    }\n",
       "\n",
       "    .dataframe tbody tr th {\n",
       "        vertical-align: top;\n",
       "    }\n",
       "\n",
       "    .dataframe thead th {\n",
       "        text-align: right;\n",
       "    }\n",
       "</style>\n",
       "<table border=\"1\" class=\"dataframe\">\n",
       "  <thead>\n",
       "    <tr style=\"text-align: right;\">\n",
       "      <th></th>\n",
       "      <th>CustomerID</th>\n",
       "      <th>Age</th>\n",
       "      <th>Gender</th>\n",
       "      <th>City</th>\n",
       "      <th>Purchase Date</th>\n",
       "      <th>Product Category</th>\n",
       "      <th>Purchase Amount (INR)</th>\n",
       "    </tr>\n",
       "  </thead>\n",
       "  <tbody>\n",
       "    <tr>\n",
       "      <th>0</th>\n",
       "      <td>101</td>\n",
       "      <td>28</td>\n",
       "      <td>Male</td>\n",
       "      <td>Bangalore</td>\n",
       "      <td>2023-12-28</td>\n",
       "      <td>Electronics</td>\n",
       "      <td>15000</td>\n",
       "    </tr>\n",
       "    <tr>\n",
       "      <th>1</th>\n",
       "      <td>102</td>\n",
       "      <td>35</td>\n",
       "      <td>Female</td>\n",
       "      <td>Delhi</td>\n",
       "      <td>2023-12-27</td>\n",
       "      <td>Clothing</td>\n",
       "      <td>5000</td>\n",
       "    </tr>\n",
       "    <tr>\n",
       "      <th>2</th>\n",
       "      <td>103</td>\n",
       "      <td>42</td>\n",
       "      <td>Male</td>\n",
       "      <td>Mumbai</td>\n",
       "      <td>2023-12-26</td>\n",
       "      <td>Books</td>\n",
       "      <td>1200</td>\n",
       "    </tr>\n",
       "    <tr>\n",
       "      <th>3</th>\n",
       "      <td>104</td>\n",
       "      <td>25</td>\n",
       "      <td>Female</td>\n",
       "      <td>Chennai</td>\n",
       "      <td>2023-12-28</td>\n",
       "      <td>Beauty</td>\n",
       "      <td>3000</td>\n",
       "    </tr>\n",
       "    <tr>\n",
       "      <th>4</th>\n",
       "      <td>105</td>\n",
       "      <td>31</td>\n",
       "      <td>Male</td>\n",
       "      <td>Hyderabad</td>\n",
       "      <td>2023-12-27</td>\n",
       "      <td>Electronics</td>\n",
       "      <td>8000</td>\n",
       "    </tr>\n",
       "    <tr>\n",
       "      <th>5</th>\n",
       "      <td>106</td>\n",
       "      <td>29</td>\n",
       "      <td>Female</td>\n",
       "      <td>Bangalore</td>\n",
       "      <td>2023-12-26</td>\n",
       "      <td>Clothing</td>\n",
       "      <td>4500</td>\n",
       "    </tr>\n",
       "    <tr>\n",
       "      <th>6</th>\n",
       "      <td>107</td>\n",
       "      <td>38</td>\n",
       "      <td>Male</td>\n",
       "      <td>Delhi</td>\n",
       "      <td>2023-12-25</td>\n",
       "      <td>Grocery</td>\n",
       "      <td>2000</td>\n",
       "    </tr>\n",
       "    <tr>\n",
       "      <th>7</th>\n",
       "      <td>108</td>\n",
       "      <td>26</td>\n",
       "      <td>Female</td>\n",
       "      <td>Kolkata</td>\n",
       "      <td>2023-12-28</td>\n",
       "      <td>Beauty</td>\n",
       "      <td>2500</td>\n",
       "    </tr>\n",
       "    <tr>\n",
       "      <th>8</th>\n",
       "      <td>109</td>\n",
       "      <td>40</td>\n",
       "      <td>Male</td>\n",
       "      <td>Mumbai</td>\n",
       "      <td>2023-12-27</td>\n",
       "      <td>Books</td>\n",
       "      <td>1800</td>\n",
       "    </tr>\n",
       "    <tr>\n",
       "      <th>9</th>\n",
       "      <td>110</td>\n",
       "      <td>33</td>\n",
       "      <td>Female</td>\n",
       "      <td>Chennai</td>\n",
       "      <td>2023-12-26</td>\n",
       "      <td>Grocery</td>\n",
       "      <td>3500</td>\n",
       "    </tr>\n",
       "  </tbody>\n",
       "</table>\n",
       "</div>"
      ],
      "text/plain": [
       "   CustomerID  Age  Gender       City Purchase Date Product Category  \\\n",
       "0         101   28    Male  Bangalore    2023-12-28      Electronics   \n",
       "1         102   35  Female      Delhi    2023-12-27         Clothing   \n",
       "2         103   42    Male     Mumbai    2023-12-26            Books   \n",
       "3         104   25  Female    Chennai    2023-12-28           Beauty   \n",
       "4         105   31    Male  Hyderabad    2023-12-27      Electronics   \n",
       "5         106   29  Female  Bangalore    2023-12-26         Clothing   \n",
       "6         107   38    Male      Delhi    2023-12-25          Grocery   \n",
       "7         108   26  Female    Kolkata    2023-12-28           Beauty   \n",
       "8         109   40    Male     Mumbai    2023-12-27            Books   \n",
       "9         110   33  Female    Chennai    2023-12-26          Grocery   \n",
       "\n",
       "   Purchase Amount (INR)  \n",
       "0                  15000  \n",
       "1                   5000  \n",
       "2                   1200  \n",
       "3                   3000  \n",
       "4                   8000  \n",
       "5                   4500  \n",
       "6                   2000  \n",
       "7                   2500  \n",
       "8                   1800  \n",
       "9                   3500  "
      ]
     },
     "execution_count": 34,
     "metadata": {},
     "output_type": "execute_result"
    }
   ],
   "source": [
    "import pandas as pd\n",
    "\n",
    "# Sample customer data (as a list of dictionaries)\n",
    "data = [\n",
    "    {'CustomerID': 101, 'Age': 28, 'Gender': 'Male', 'City': 'Bangalore', 'Purchase Date': '2023-12-28', 'Product Category': 'Electronics', 'Purchase Amount (INR)': 15000},\n",
    "    {'CustomerID': 102, 'Age': 35, 'Gender': 'Female', 'City': 'Delhi', 'Purchase Date': '2023-12-27', 'Product Category': 'Clothing', 'Purchase Amount (INR)': 5000},\n",
    "    {'CustomerID': 103, 'Age': 42, 'Gender': 'Male', 'City': 'Mumbai', 'Purchase Date': '2023-12-26', 'Product Category': 'Books', 'Purchase Amount (INR)': 1200},\n",
    "    {'CustomerID': 104, 'Age': 25, 'Gender': 'Female', 'City': 'Chennai', 'Purchase Date': '2023-12-28', 'Product Category': 'Beauty', 'Purchase Amount (INR)': 3000},\n",
    "    {'CustomerID': 105, 'Age': 31, 'Gender': 'Male', 'City': 'Hyderabad', 'Purchase Date': '2023-12-27', 'Product Category': 'Electronics', 'Purchase Amount (INR)': 8000},\n",
    "    {'CustomerID': 106, 'Age': 29, 'Gender': 'Female', 'City': 'Bangalore', 'Purchase Date': '2023-12-26', 'Product Category': 'Clothing', 'Purchase Amount (INR)': 4500},\n",
    "    {'CustomerID': 107, 'Age': 38, 'Gender': 'Male', 'City': 'Delhi', 'Purchase Date': '2023-12-25', 'Product Category': 'Grocery', 'Purchase Amount (INR)': 2000},\n",
    "    {'CustomerID': 108, 'Age': 26, 'Gender': 'Female', 'City': 'Kolkata', 'Purchase Date': '2023-12-28', 'Product Category': 'Beauty', 'Purchase Amount (INR)': 2500},\n",
    "    {'CustomerID': 109, 'Age': 40, 'Gender': 'Male', 'City': 'Mumbai', 'Purchase Date': '2023-12-27', 'Product Category': 'Books', 'Purchase Amount (INR)': 1800},\n",
    "    {'CustomerID': 110, 'Age': 33, 'Gender': 'Female', 'City': 'Chennai', 'Purchase Date': '2023-12-26', 'Product Category': 'Grocery', 'Purchase Amount (INR)': 3500}\n",
    "]\n",
    "\n",
    "# Create the DataFrame\n",
    "customer_df = pd.DataFrame(data)\n",
    "\n",
    "# Display\n",
    "customer_df"
   ]
  },
  {
   "cell_type": "markdown",
   "id": "252f2559-08a4-459c-8ad0-394fc0692601",
   "metadata": {},
   "source": [
    "## 1. df['column_name']: Filters customers located in Bangalore."
   ]
  },
  {
   "cell_type": "code",
   "execution_count": 38,
   "id": "a51f7cd5-1abd-4f9e-9a7c-aaacb9fef4bf",
   "metadata": {},
   "outputs": [],
   "source": [
    "# Ans"
   ]
  },
  {
   "cell_type": "markdown",
   "id": "716527bf-f258-4785-bdd9-189947c38435",
   "metadata": {},
   "source": [
    "## 2. df.loc[]: Retrieves details of the 8th customer."
   ]
  },
  {
   "cell_type": "code",
   "execution_count": null,
   "id": "91d41c4c-8976-42cb-9e83-ee834ea053f9",
   "metadata": {},
   "outputs": [],
   "source": []
  },
  {
   "cell_type": "markdown",
   "id": "e61d3408-ebd5-4362-aad6-b7d0c7b14f92",
   "metadata": {},
   "source": [
    "## 3. df.isna().sum(): Checks for missing data in each column."
   ]
  },
  {
   "cell_type": "code",
   "execution_count": null,
   "id": "8d5d2be0-38d3-4cc7-9ce6-96426e6ab315",
   "metadata": {},
   "outputs": [],
   "source": []
  },
  {
   "cell_type": "markdown",
   "id": "e97ed3e6-3d6c-4fa7-ae1a-da383cbf7a70",
   "metadata": {},
   "source": [
    "## 4. df.duplicated(): Identifies any duplicate customer entries."
   ]
  },
  {
   "cell_type": "code",
   "execution_count": null,
   "id": "92764e3d-7ead-48a7-b82c-b05d2a7acae0",
   "metadata": {},
   "outputs": [],
   "source": []
  },
  {
   "cell_type": "markdown",
   "id": "b82aebc6-40a0-4591-8d33-c4def7232810",
   "metadata": {},
   "source": [
    "## 5. df.nunique(): Counts the number of unique cities where customers are located."
   ]
  },
  {
   "cell_type": "code",
   "execution_count": null,
   "id": "0c3fc385-7cc8-4b9f-b3f7-4eb0805093bb",
   "metadata": {},
   "outputs": [],
   "source": []
  },
  {
   "cell_type": "markdown",
   "id": "6b0ea013-c7e7-4270-83a7-a4c1edbb2707",
   "metadata": {},
   "source": [
    "## 6. df.unique(): Lists all unique product categories purchased."
   ]
  },
  {
   "cell_type": "code",
   "execution_count": null,
   "id": "48f42d0d-96c4-4347-8c38-a44397318d2b",
   "metadata": {},
   "outputs": [],
   "source": []
  },
  {
   "cell_type": "markdown",
   "id": "65115237-0e5d-4174-90d9-0327579c8216",
   "metadata": {},
   "source": [
    "## 7. df.value_counts(): Shows the distribution of customers by gender."
   ]
  },
  {
   "cell_type": "code",
   "execution_count": null,
   "id": "57bfea45-8d9f-41c2-906b-2630f1ad0b17",
   "metadata": {},
   "outputs": [],
   "source": []
  },
  {
   "cell_type": "markdown",
   "id": "fd016de6-096a-4645-9f07-98240d7fd994",
   "metadata": {},
   "source": [
    "## 8. df.sort_values(): Sorts the customers based on their purchase amounts in descending order."
   ]
  },
  {
   "cell_type": "code",
   "execution_count": null,
   "id": "6ee83950-4a82-463b-8718-11b032e9d855",
   "metadata": {},
   "outputs": [],
   "source": []
  },
  {
   "cell_type": "markdown",
   "id": "c303f100-0fff-4378-8587-be59721e1fd9",
   "metadata": {},
   "source": [
    "## 9. df.query(): Filters customers who made purchases exceeding 10,000 INR."
   ]
  },
  {
   "cell_type": "code",
   "execution_count": null,
   "id": "12dd912e-57e4-4c68-89d9-8b3ceec8fffa",
   "metadata": {},
   "outputs": [],
   "source": []
  }
 ],
 "metadata": {
  "kernelspec": {
   "display_name": "Python [conda env:base] *",
   "language": "python",
   "name": "conda-base-py"
  },
  "language_info": {
   "codemirror_mode": {
    "name": "ipython",
    "version": 3
   },
   "file_extension": ".py",
   "mimetype": "text/x-python",
   "name": "python",
   "nbconvert_exporter": "python",
   "pygments_lexer": "ipython3",
   "version": "3.12.7"
  }
 },
 "nbformat": 4,
 "nbformat_minor": 5
}
