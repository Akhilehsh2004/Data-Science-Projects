{
 "cells": [
  {
   "cell_type": "code",
   "execution_count": null,
   "id": "14410ce6-1c02-4b12-91cf-f4f47a12da41",
   "metadata": {},
   "outputs": [
    {
     "name": "stdout",
     "output_type": "stream",
     "text": [
      "Training the model...\n",
      "Downloading data from https://storage.googleapis.com/tensorflow/tf-keras-datasets/mnist.npz\n",
      "\u001b[1m11490434/11490434\u001b[0m \u001b[32m━━━━━━━━━━━━━━━━━━━━\u001b[0m\u001b[37m\u001b[0m \u001b[1m21s\u001b[0m 2us/step\n"
     ]
    },
    {
     "name": "stderr",
     "output_type": "stream",
     "text": [
      "C:\\Users\\jagda\\anaconda3\\Lib\\site-packages\\keras\\src\\layers\\reshaping\\flatten.py:37: UserWarning: Do not pass an `input_shape`/`input_dim` argument to a layer. When using Sequential models, prefer using an `Input(shape)` object as the first layer in the model instead.\n",
      "  super().__init__(**kwargs)\n"
     ]
    },
    {
     "name": "stdout",
     "output_type": "stream",
     "text": [
      "Epoch 1/5\n",
      "\u001b[1m1875/1875\u001b[0m \u001b[32m━━━━━━━━━━━━━━━━━━━━\u001b[0m\u001b[37m\u001b[0m \u001b[1m16s\u001b[0m 7ms/step - accuracy: 0.8766 - loss: 0.4330 - val_accuracy: 0.9617 - val_loss: 0.1308\n",
      "Epoch 2/5\n",
      "\u001b[1m1875/1875\u001b[0m \u001b[32m━━━━━━━━━━━━━━━━━━━━\u001b[0m\u001b[37m\u001b[0m \u001b[1m12s\u001b[0m 7ms/step - accuracy: 0.9650 - loss: 0.1213 - val_accuracy: 0.9716 - val_loss: 0.0924\n",
      "Epoch 3/5\n",
      "\u001b[1m1875/1875\u001b[0m \u001b[32m━━━━━━━━━━━━━━━━━━━━\u001b[0m\u001b[37m\u001b[0m \u001b[1m13s\u001b[0m 7ms/step - accuracy: 0.9769 - loss: 0.0776 - val_accuracy: 0.9742 - val_loss: 0.0867\n",
      "Epoch 4/5\n",
      "\u001b[1m1875/1875\u001b[0m \u001b[32m━━━━━━━━━━━━━━━━━━━━\u001b[0m\u001b[37m\u001b[0m \u001b[1m12s\u001b[0m 6ms/step - accuracy: 0.9829 - loss: 0.0574 - val_accuracy: 0.9758 - val_loss: 0.0799\n",
      "Epoch 5/5\n",
      "\u001b[1m1875/1875\u001b[0m \u001b[32m━━━━━━━━━━━━━━━━━━━━\u001b[0m\u001b[37m\u001b[0m \u001b[1m12s\u001b[0m 6ms/step - accuracy: 0.9863 - loss: 0.0446 - val_accuracy: 0.9789 - val_loss: 0.0703\n"
     ]
    },
    {
     "name": "stderr",
     "output_type": "stream",
     "text": [
      "WARNING:absl:You are saving your model as an HDF5 file via `model.save()` or `keras.saving.save_model(model)`. This file format is considered legacy. We recommend using instead the native Keras format, e.g. `model.save('my_model.keras')` or `keras.saving.save_model(model, 'my_model.keras')`. \n"
     ]
    },
    {
     "name": "stdout",
     "output_type": "stream",
     "text": [
      "Model saved as mnist_model.h5\n"
     ]
    }
   ],
   "source": [
    "import os\n",
    "import cv2\n",
    "import numpy as np\n",
    "import tensorflow as tf\n",
    "from tensorflow.keras.models import Sequential, load_model\n",
    "from tensorflow.keras.layers import Dense, Flatten\n",
    "from tensorflow.keras.datasets import mnist\n",
    "\n",
    "# Check if the model exists, else train it\n",
    "MODEL_PATH = \"mnist_model.h5\"\n",
    "\n",
    "if not os.path.exists(MODEL_PATH):\n",
    "    print(\"Training the model...\")\n",
    "    (x_train, y_train), (x_test, y_test) = mnist.load_data()\n",
    "    x_train, x_test = x_train / 255.0, x_test / 255.0  # Normalize data\n",
    "    \n",
    "    model = Sequential([\n",
    "        Flatten(input_shape=(28, 28)),\n",
    "        Dense(128, activation='relu'),\n",
    "        Dense(10, activation='softmax')\n",
    "    ])\n",
    "    \n",
    "    model.compile(optimizer='adam', loss='sparse_categorical_crossentropy', metrics=['accuracy'])\n",
    "    model.fit(x_train, y_train, epochs=5, validation_data=(x_test, y_test))\n",
    "    model.save(MODEL_PATH)\n",
    "    print(\"Model saved as mnist_model.h5\")\n",
    "else:\n",
    "    print(\"Loading existing model...\")\n",
    "    model = load_model(MODEL_PATH)\n",
    "\n",
    "# Global variables\n",
    "drawing = False\n",
    "ix, iy = -1, -1\n",
    "canvas = np.ones((400, 400), dtype=\"uint8\") * 255  # White background\n",
    "\n",
    "def draw_digit(event, x, y, flags, param):\n",
    "    global drawing, ix, iy\n",
    "    if event == cv2.EVENT_LBUTTONDOWN:\n",
    "        drawing = True\n",
    "        ix, iy = x, y\n",
    "    elif event == cv2.EVENT_MOUSEMOVE and drawing:\n",
    "        cv2.line(canvas, (ix, iy), (x, y), (0, 0, 0), thickness=20)\n",
    "        ix, iy = x, y\n",
    "    elif event == cv2.EVENT_LBUTTONUP:\n",
    "        drawing = False\n",
    "\n",
    "cv2.namedWindow(\"Draw Digit\")\n",
    "cv2.setMouseCallback(\"Draw Digit\", draw_digit)\n",
    "\n",
    "while True:\n",
    "    cv2.imshow(\"Draw Digit\", canvas)\n",
    "    key = cv2.waitKey(1) & 0xFF\n",
    "    \n",
    "    if key == ord(\"c\"):  # Clear canvas\n",
    "        canvas[:] = 255\n",
    "    elif key == ord(\"p\"):  # Predict digit\n",
    "        img = cv2.resize(canvas, (28, 28))  # Resize to 28x28\n",
    "        img = np.invert(img)  # Invert colors\n",
    "        img = img / 255.0  # Normalize\n",
    "        img = img.reshape(1, 28, 28, 1)\n",
    "        \n",
    "        prediction = model.predict(img)\n",
    "        digit = np.argmax(prediction)\n",
    "        \n",
    "        print(f\"Predicted Digit: {digit}\")\n",
    "        cv2.putText(canvas, f\"Predicted: {digit}\", (50, 350),\n",
    "                    cv2.FONT_HERSHEY_SIMPLEX, 1, (0, 0, 0), 2)\n",
    "    elif key == 27:  # ESC to exit\n",
    "        break\n",
    "\n",
    "cv2.destroyAllWindows()\n"
   ]
  },
  {
   "cell_type": "code",
   "execution_count": null,
   "id": "4008f600-8e11-4ae3-8ebc-e08625a9fdb2",
   "metadata": {},
   "outputs": [
    {
     "name": "stdout",
     "output_type": "stream",
     "text": [
      "Loading existing model...\n"
     ]
    },
    {
     "name": "stderr",
     "output_type": "stream",
     "text": [
      "WARNING:absl:Compiled the loaded model, but the compiled metrics have yet to be built. `model.compile_metrics` will be empty until you train or evaluate the model.\n"
     ]
    }
   ],
   "source": [
    "import os\n",
    "import cv2\n",
    "import numpy as np\n",
    "import tensorflow as tf\n",
    "from tensorflow.keras.models import Sequential, load_model\n",
    "from tensorflow.keras.layers import Dense, Flatten\n",
    "from tensorflow.keras.datasets import mnist\n",
    "\n",
    "# Check if the model exists, else train it\n",
    "MODEL_PATH = \"mnist_model.h5\"\n",
    "\n",
    "if not os.path.exists(MODEL_PATH):\n",
    "    print(\"Training the model...\")\n",
    "    (x_train, y_train), (x_test, y_test) = mnist.load_data()\n",
    "    x_train, x_test = x_train / 255.0, x_test / 255.0  # Normalize data\n",
    "    \n",
    "    model = Sequential([\n",
    "        Flatten(input_shape=(28, 28)),\n",
    "        Dense(128, activation='relu'),\n",
    "        Dense(10, activation='softmax')\n",
    "    ])\n",
    "    \n",
    "    model.compile(optimizer='adam', loss='sparse_categorical_crossentropy', metrics=['accuracy'])\n",
    "    model.fit(x_train, y_train, epochs=5, validation_data=(x_test, y_test))\n",
    "    model.save(MODEL_PATH)\n",
    "    print(\"Model saved as mnist_model.h5\")\n",
    "else:\n",
    "    print(\"Loading existing model...\")\n",
    "    model = load_model(MODEL_PATH)\n",
    "\n",
    "# Global variables\n",
    "drawing = False\n",
    "ix, iy = -1, -1\n",
    "canvas = np.ones((400, 400), dtype=\"uint8\") * 255  # White background\n",
    "\n",
    "def draw_digit(event, x, y, flags, param):\n",
    "    global drawing, ix, iy\n",
    "    if event == cv2.EVENT_LBUTTONDOWN:\n",
    "        drawing = True\n",
    "        ix, iy = x, y\n",
    "    elif event == cv2.EVENT_MOUSEMOVE and drawing:\n",
    "        cv2.line(canvas, (ix, iy), (x, y), (0, 0, 0), thickness=20)\n",
    "        ix, iy = x, y\n",
    "    elif event == cv2.EVENT_LBUTTONUP:\n",
    "        drawing = False\n",
    "\n",
    "cv2.namedWindow(\"Draw Digit\")\n",
    "cv2.setMouseCallback(\"Draw Digit\", draw_digit)\n",
    "\n",
    "while True:\n",
    "    cv2.imshow(\"Draw Digit\", canvas)\n",
    "    key = cv2.waitKey(1) & 0xFF\n",
    "    \n",
    "    if key == ord(\"c\"):  # Clear canvas\n",
    "        canvas[:] = 255\n",
    "    elif key == ord(\"p\"):  # Predict digit\n",
    "        img = cv2.resize(canvas, (28, 28))  # Resize to 28x28\n",
    "        img = np.invert(img)  # Invert colors\n",
    "        img = img / 255.0  # Normalize\n",
    "        img = img.reshape(1, 28, 28, 1)\n",
    "        \n",
    "        prediction = model.predict(img)\n",
    "        digit = np.argmax(prediction)\n",
    "        \n",
    "        print(f\"Predicted Digit: {digit}\")\n",
    "        cv2.putText(canvas, f\"Predicted: {digit}\", (50, 350),\n",
    "                    cv2.FONT_HERSHEY_SIMPLEX, 1, (0, 0, 0), 2)\n",
    "    elif key == 27:  # ESC to exit\n",
    "        break\n",
    "\n",
    "cv2.destroyAllWindows()\n"
   ]
  },
  {
   "cell_type": "code",
   "execution_count": null,
   "id": "ce2f69e4-995b-427c-b02f-d3342bd5f593",
   "metadata": {},
   "outputs": [],
   "source": []
  }
 ],
 "metadata": {
  "kernelspec": {
   "display_name": "Python [conda env:base] *",
   "language": "python",
   "name": "conda-base-py"
  },
  "language_info": {
   "codemirror_mode": {
    "name": "ipython",
    "version": 3
   },
   "file_extension": ".py",
   "mimetype": "text/x-python",
   "name": "python",
   "nbconvert_exporter": "python",
   "pygments_lexer": "ipython3",
   "version": "3.12.7"
  }
 },
 "nbformat": 4,
 "nbformat_minor": 5
}
