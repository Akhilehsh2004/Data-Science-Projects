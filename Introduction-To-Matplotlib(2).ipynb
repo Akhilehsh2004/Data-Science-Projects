{
 "cells": [
  {
   "cell_type": "code",
   "execution_count": null,
   "id": "283e9f0f-4a67-47a5-b718-a89d082f8171",
   "metadata": {},
   "outputs": [],
   "source": [
    "%matplotlib inline \n",
    "import matplotlib.pyplot as plt\n",
    "import pandas as pd\n",
    "import numpy as np"
   ]
  },
  {
   "cell_type": "code",
   "execution_count": null,
   "id": "f25800d0-1838-405d-a9bd-0de7eaf9d134",
   "metadata": {},
   "outputs": [],
   "source": [
    "plt.plot()"
   ]
  },
  {
   "cell_type": "code",
   "execution_count": null,
   "id": "af6748ed-6b64-45c4-a094-0d32e3a90f90",
   "metadata": {},
   "outputs": [],
   "source": [
    "plt.plot();"
   ]
  },
  {
   "cell_type": "code",
   "execution_count": null,
   "id": "fd0b7bfc-e3f8-4ba1-b6bd-cc216c4aa151",
   "metadata": {},
   "outputs": [],
   "source": [
    "plt.plot()\n",
    "plt.show()"
   ]
  },
  {
   "cell_type": "code",
   "execution_count": null,
   "id": "637cf34a-2856-4ba7-90ae-c1d87495911d",
   "metadata": {},
   "outputs": [],
   "source": [
    "plt.plot((1,2,3,4));\n",
    "plt.show()"
   ]
  },
  {
   "cell_type": "code",
   "execution_count": null,
   "id": "67102908-daa7-44b2-9eb9-c65e61359d58",
   "metadata": {},
   "outputs": [],
   "source": [
    "x = [1,2,3,4]\n",
    "y = [11,22,33,44]\n",
    "\n",
    "plt.plot(x,y)\n",
    "plt.show()"
   ]
  },
  {
   "cell_type": "code",
   "execution_count": null,
   "id": "a63a8694-e5d8-4cdb-be3a-fa3cc18efc46",
   "metadata": {},
   "outputs": [],
   "source": [
    "# 1st method\n",
    "\n",
    "fig = plt.figure()  # Creates a figure\n",
    "ax = fig.add_subplot()  # Adds some axes\n",
    "plt.show()"
   ]
  },
  {
   "cell_type": "code",
   "execution_count": null,
   "id": "7df357e7-e7f8-44a5-a98d-919681a5d9d8",
   "metadata": {},
   "outputs": [],
   "source": [
    "# 2nd Method\n",
    "\n",
    "fig = plt.figure() # Creates A Figure\n",
    "ax = fig.add_axes([1,1,1,1])\n",
    "ax.plot(x,y)\n"
   ]
  },
  {
   "cell_type": "code",
   "execution_count": null,
   "id": "22cefab5-5ab0-4266-95c0-6d64901d6a6d",
   "metadata": {},
   "outputs": [],
   "source": [
    "import matplotlib.pyplot as plt\n",
    "\n",
    "x = [1, 2, 3, 4]\n",
    "y = [11, 22, 33, 44]\n",
    "\n",
    "fig = plt.figure()  # Creates a Figure\n",
    "ax = fig.add_axes([0, 0, 1, 1])  # Defines the position and size of the axes (normalized)\n",
    "ax.plot(x, y)\n",
    "plt.show()\n"
   ]
  },
  {
   "cell_type": "code",
   "execution_count": null,
   "id": "d18d89e5-5f8e-4df6-9ef0-46dd396dee7d",
   "metadata": {},
   "outputs": [],
   "source": [
    "  # 3rd Method\n",
    "\n",
    "fig, ax = plt.subplots()\n",
    "ax.plot(x,y);   # Add Some Data\n",
    "plt.show()"
   ]
  },
  {
   "cell_type": "code",
   "execution_count": null,
   "id": "71b500db-7d8d-4f10-a7b3-daf79b39dae9",
   "metadata": {},
   "outputs": [],
   "source": [
    " # 3rd Method\n",
    "\n",
    "fig, ax = plt.subplots()\n",
    "ax.plot(x, [50, 100, 200, 250]);   # Add Some Data\n",
    "plt.show()"
   ]
  },
  {
   "cell_type": "code",
   "execution_count": null,
   "id": "3cbe9fb6-01da-4006-ace1-899aeecfe9e9",
   "metadata": {},
   "outputs": [],
   "source": [
    " # 3rd Method\n",
    "\n",
    "fig, ax = plt.subplots()\n",
    "ax.plot([12,45,23,100], [50, 100, 200, 250]);   # Add Some Data\n",
    "plt.show()"
   ]
  },
  {
   "cell_type": "markdown",
   "id": "c737f580-0846-42b7-86a9-67190cb10c36",
   "metadata": {},
   "source": [
    "## Matploit Example Workflow"
   ]
  },
  {
   "cell_type": "code",
   "execution_count": null,
   "id": "c11f69a8-2658-4d03-8a33-17218b30dee0",
   "metadata": {},
   "outputs": [],
   "source": [
    "# Import matplotlib and get it ready for plotting in Jupyter\n",
    "%matplotlib inline\n",
    "import matplotlib.pyplot as plt\n",
    "\n",
    "# 1: Prepare Data\n",
    "x = [1, 2, 3, 4]\n",
    "y = [11, 22, 33, 44]\n",
    "\n",
    "# 2: Setup Plot\n",
    "fig, ax = plt.subplots(figsize=(10, 10))  # Width & Height\n",
    "\n",
    "# 3: Plot Data\n",
    "ax.plot(x, y)\n",
    "\n",
    "# 4: Customize Plot\n",
    "ax.set(\n",
    "    title=\"Simple Plot\",\n",
    "    xlabel=\"x-axis\",\n",
    "    ylabel=\"y-axis\"\n",
    ")\n",
    "\n",
    "# 5: Save & Show (ensure the directory exists or use a valid path)\n",
    "fig.savefig(\"sample-plot.png\")\n",
    "plt.show()\n"
   ]
  },
  {
   "cell_type": "code",
   "execution_count": null,
   "id": "ea68e9be-b964-4ba6-b5dd-6fee285c4dec",
   "metadata": {},
   "outputs": [],
   "source": [
    "# Import matplotlib and get it ready for plotting in Jupyter\n",
    "%matplotlib inline\n",
    "import matplotlib.pyplot as plt\n",
    "\n",
    "# 1: Prepare Data\n",
    "x = [10, 200, 30, 400]\n",
    "y = [11, 22, 33, 44]\n",
    "\n",
    "# 2: Setup Plot\n",
    "fig, ax = plt.subplots(figsize=(10, 10))  # Width & Height\n",
    "\n",
    "# 3: Plot Data\n",
    "ax.plot(x, y)\n",
    "\n",
    "# 4: Customize Plot\n",
    "ax.set(\n",
    "    title=\"Simple Plot Major Sahab\",\n",
    "    xlabel=\"x-axis\",\n",
    "    ylabel=\"y-axis\"\n",
    ")\n",
    "\n",
    "# 5: Save & Show (ensure the directory exists or use a valid path)\n",
    "fig.savefig(\"sample-plot.png\")\n",
    "plt.show()\n"
   ]
  },
  {
   "cell_type": "markdown",
   "id": "292f3551-1e63-4f34-a257-9e8da68f222b",
   "metadata": {},
   "source": [
    "## Scatter Plot & Bar Plot"
   ]
  },
  {
   "cell_type": "markdown",
   "id": "6e234274-7815-4f40-bef0-99d5f8efddb7",
   "metadata": {},
   "source": [
    "## Making figures with NumPy Arrays"
   ]
  },
  {
   "cell_type": "code",
   "execution_count": null,
   "id": "40e6b427-2df3-488b-a10f-7401d3764600",
   "metadata": {},
   "outputs": [],
   "source": [
    "import numpy as np\n"
   ]
  },
  {
   "cell_type": "code",
   "execution_count": null,
   "id": "8a213508-aebe-4c98-a642-7ff8746ad284",
   "metadata": {},
   "outputs": [],
   "source": [
    "# Creates some data\n",
    "\n",
    "x = np.linspace(0,10,100)\n",
    "x[:10]"
   ]
  },
  {
   "cell_type": "code",
   "execution_count": null,
   "id": "7667e90b-0b86-46cd-8dca-ee4ecacaffb9",
   "metadata": {},
   "outputs": [],
   "source": [
    "x = np.linspace(0,10,100)\n",
    "x"
   ]
  },
  {
   "cell_type": "markdown",
   "id": "84ce4e20-b85c-4998-bc0d-a1fe502681a5",
   "metadata": {},
   "source": [
    "## Without NumPy (using a list comprehension):"
   ]
  },
  {
   "cell_type": "code",
   "execution_count": null,
   "id": "8989eefe-d63c-4ad8-baa1-770e39ead4aa",
   "metadata": {},
   "outputs": [],
   "source": [
    "import matplotlib.pyplot as plt\n",
    "\n",
    "x = [10, 200, 30, 400]\n",
    "y = [i**2 for i in x]  # Compute squares using a list comprehension\n",
    "\n",
    "fig, ax = plt.subplots()\n",
    "ax.plot(x, y)\n",
    "plt.show()\n"
   ]
  },
  {
   "cell_type": "markdown",
   "id": "a9464649-21b0-46e4-863c-2111cdb97880",
   "metadata": {},
   "source": [
    "## Using NumPy:"
   ]
  },
  {
   "cell_type": "code",
   "execution_count": null,
   "id": "7981b3df-8334-4d36-a769-8610d0cb5be3",
   "metadata": {},
   "outputs": [],
   "source": [
    "import matplotlib.pyplot as plt\n",
    "import numpy as np\n",
    "\n",
    "x = np.array([10, 200, 30, 400])  # Convert x to a NumPy array\n",
    "\n",
    "fig, ax = plt.subplots()\n",
    "ax.plot(x, x**2)  # Element-wise squaring using NumPy\n",
    "plt.show()\n"
   ]
  },
  {
   "cell_type": "code",
   "execution_count": null,
   "id": "7c7052e7-594c-4333-bcac-95587543105b",
   "metadata": {},
   "outputs": [],
   "source": [
    "# Uswe same data to make a satter\n",
    "\n",
    "fig, ax = plt.subplots()\n",
    "ax.scatter(x, np.exp(x))\n",
    "plt.show()"
   ]
  },
  {
   "cell_type": "code",
   "execution_count": null,
   "id": "0dbe9e9e-a569-4647-94cf-189e12a13254",
   "metadata": {},
   "outputs": [],
   "source": [
    "import matplotlib.pyplot as plt\n",
    "import numpy as np\n",
    "\n",
    "# Data\n",
    "x = np.array([10, 200, 30, 400])  # Convert x to a NumPy array\n",
    "\n",
    "# Create the scatter plot\n",
    "fig, ax = plt.subplots()\n",
    "ax.scatter(x, np.log(x))  # Use logarithmic transformation for better visualization\n",
    "ax.set(title=\"Scatter Plot\", xlabel=\"x-values\", ylabel=\"exp(x) or log(x)\")\n",
    "plt.show()\n"
   ]
  },
  {
   "cell_type": "code",
   "execution_count": null,
   "id": "19bd2a48-185a-4684-8d47-df38157859d7",
   "metadata": {},
   "outputs": [],
   "source": [
    "# Another Scatter plot\n",
    "\n",
    "fig, ax = plt.subplots()\n",
    "ax.scatter(x, np.sin(x))\n"
   ]
  },
  {
   "cell_type": "code",
   "execution_count": null,
   "id": "6c427494-f75f-4fdd-a0a2-6eff3ae382ad",
   "metadata": {},
   "outputs": [],
   "source": [
    "import matplotlib.pyplot as plt\n",
    "import numpy as np\n",
    "\n",
    "# Data\n",
    "x = np.linspace(0, 2 * np.pi, 50)  # Generate 50 points between 0 and 2π\n",
    "\n",
    "# Create the scatter plot\n",
    "fig, ax = plt.subplots()\n",
    "ax.scatter(x, np.sin(x))  # Sine values\n",
    "ax.set(title=\"Scatter Plot of Sine Function\", xlabel=\"x-values\", ylabel=\"sin(x)\")\n",
    "plt.show()\n"
   ]
  },
  {
   "cell_type": "code",
   "execution_count": null,
   "id": "5501b546-7700-4f8b-b0fc-336ce6cd963c",
   "metadata": {},
   "outputs": [],
   "source": [
    "# Make a plot from dictionary\n",
    "\n",
    "nut_butter_prices = {\"Almond Butter\": 10,\n",
    "                     \"Peanut Butter\": 8, \n",
    "                     \"Cashew Butter\": 12}\n",
    "fig, ax = plt.subplots()\n",
    "ax.bar(x=nut_butter_prices.keys(), y=nut_butter_prices.values())\n",
    "                    \n",
    "                    \n",
    "                    "
   ]
  },
  {
   "cell_type": "code",
   "execution_count": null,
   "id": "8446b906-d5ba-4305-a52e-86ffcb8fa8c2",
   "metadata": {},
   "outputs": [],
   "source": [
    "import matplotlib.pyplot as plt\n",
    "\n",
    "nut_butter_prices = {\"Almond Butter\": 10,\n",
    "                     \"Peanut Butter\": 8, \n",
    "                     \"Cashew Butter\": 12}\n",
    "\n",
    "fig, ax = plt.subplots()\n",
    "ax.bar(nut_butter_prices.keys(), nut_butter_prices.values())  # Correct bar arguments\n",
    "ax.set(title=\"Nut Butter Prices\", xlabel=\"Nut Butter Type\", ylabel=\"Price ($)\")  # Add labels and title\n",
    "plt.show()\n"
   ]
  },
  {
   "cell_type": "code",
   "execution_count": null,
   "id": "0466e1d1-55da-4d86-8c1e-5e545c82309e",
   "metadata": {},
   "outputs": [],
   "source": [
    "import matplotlib.pyplot as plt\n",
    "\n",
    "# Example dictionary of nut butter prices\n",
    "nut_butter_prices = {\n",
    "    \"Peanut Butter\": 2.99,\n",
    "    \"Almond Butter\": 4.99,\n",
    "    \"Cashew Butter\": 5.49,\n",
    "    \"Sunflower Butter\": 3.99,\n",
    "}\n",
    "\n",
    "# Create a horizontal bar chart\n",
    "fig, ax = plt.subplots()\n",
    "ax.barh(list(nut_butter_prices.keys()), list(nut_butter_prices.values()))\n",
    "\n",
    "# Add labels and title\n",
    "ax.set_xlabel(\"Price (in USD)\")\n",
    "ax.set_ylabel(\"Nut Butter Type\")\n",
    "ax.set_title(\"Nut Butter Prices\")\n",
    "\n",
    "# Show the plot\n",
    "plt.show()\n"
   ]
  },
  {
   "cell_type": "code",
   "execution_count": null,
   "id": "8c5d1288-85b8-4d5d-888d-ec75a5016794",
   "metadata": {},
   "outputs": [],
   "source": [
    "x = np.random.randn(1000)"
   ]
  },
  {
   "cell_type": "code",
   "execution_count": null,
   "id": "838d1881-f33f-4788-a9d4-2d7df76dc7e7",
   "metadata": {},
   "outputs": [],
   "source": [
    "import numpy as np\n",
    "\n",
    "# Generate 1000 random samples from a standard normal distribution\n",
    "x = np.random.randn(1000)\n",
    "fig, ax = plt.subplots()\n",
    "ax.hist(x)\n",
    "\n",
    "\n"
   ]
  },
  {
   "cell_type": "code",
   "execution_count": null,
   "id": "98720b5c-005e-486d-a93b-b8cba5bc4d06",
   "metadata": {},
   "outputs": [],
   "source": [
    "import numpy as np\n",
    "import matplotlib.pyplot as plt\n",
    "\n",
    "# Generate 1000 random samples from a standard normal distribution\n",
    "x = np.random.randn(1000)\n",
    "\n",
    "# Create a histogram\n",
    "fig, ax = plt.subplots()\n",
    "ax.hist(x, bins=30, edgecolor='black')  # Added bins and edge color for better visualization\n",
    "\n",
    "# Add labels and title\n",
    "ax.set_title(\"Histogram of Standard Normal Distribution\")\n",
    "ax.set_xlabel(\"Value\")\n",
    "ax.set_ylabel(\"Frequency\")\n",
    "\n",
    "# Show the plot\n",
    "plt.show()\n"
   ]
  },
  {
   "cell_type": "markdown",
   "id": "73d51e96-0605-487c-9900-32fa7b774797",
   "metadata": {},
   "source": [
    "## Two options for subplots"
   ]
  },
  {
   "cell_type": "code",
   "execution_count": null,
   "id": "0fb146d1-828e-4aad-9bc9-77bcd19dcf4d",
   "metadata": {},
   "outputs": [],
   "source": [
    "fig, ((ax1, ax2), (ax3, ax4)) = plt.subplots(nrows=2,\n",
    "                                             ncols=2,\n",
    "                                             figsize=(10, 5)"
   ]
  },
  {
   "cell_type": "code",
   "execution_count": null,
   "id": "9310d148-ede9-445a-9eba-e926b299e2ff",
   "metadata": {},
   "outputs": [],
   "source": [
    "import matplotlib.pyplot as plt\n",
    "\n",
    "# Create a 2x2 grid of subplots with specified figure size\n",
    "fig, ((ax1, ax2), (ax3, ax4)) = plt.subplots(nrows=2, ncols=2, figsize=(10, 5))\n",
    "\n",
    "# Add some example content to each subplot\n",
    "ax1.set_title(\"Plot 1\")\n",
    "ax1.plot([1, 2, 3], [1, 4, 9])\n",
    "\n",
    "ax2.set_title(\"Plot 2\")\n",
    "ax2.scatter([1, 2, 3], [1, 4, 9])\n",
    "\n",
    "ax3.set_title(\"Plot 3\")\n",
    "ax3.bar([1, 2, 3], [1, 4, 9])\n",
    "\n",
    "ax4.set_title(\"Plot 4\")\n",
    "ax4.hist([1, 1, 2, 3, 3, 3, 4], bins=5)\n",
    "\n",
    "# Adjust layout for better spacing\n",
    "plt.tight_layout()\n",
    "\n",
    "# Show the plots\n",
    "plt.show()\n"
   ]
  },
  {
   "cell_type": "markdown",
   "id": "ff1f889f-8358-4252-93f5-48eedc98dacc",
   "metadata": {},
   "source": [
    "## Plotting from pandas DataFrames"
   ]
  },
  {
   "cell_type": "code",
   "execution_count": null,
   "id": "3f03eee5-f967-4ed7-b688-77729c1b947e",
   "metadata": {},
   "outputs": [],
   "source": [
    "import pandas as pd\n",
    "car_sales = pd.read_csv(\"car-sales.csv\")\n",
    "car_sales"
   ]
  },
  {
   "cell_type": "code",
   "execution_count": null,
   "id": "7ad9efde-f54e-4b62-b9bd-1fed0949e0f8",
   "metadata": {},
   "outputs": [],
   "source": [
    "ts = pd.Series(np.random.randn(1000), index=pd.date_range('1/1/2000', periods=1000))\n",
    "\n",
    "ts = ts.cumsum()\n",
    "\n",
    "ts.plot()\n"
   ]
  },
  {
   "cell_type": "code",
   "execution_count": null,
   "id": "0f79deb4-7f8d-43c2-9795-269df3ee2f1f",
   "metadata": {},
   "outputs": [],
   "source": [
    "import pandas as pd\n",
    "import numpy as np\n",
    "import matplotlib.pyplot as plt\n",
    "\n",
    "# Generate a time series with 1000 random numbers\n",
    "ts = pd.Series(np.random.randn(1000), index=pd.date_range('1/1/2000', periods=1000))\n",
    "\n",
    "# Compute the cumulative sum\n",
    "ts = ts.cumsum()\n",
    "\n",
    "# Plot the time series\n",
    "ts.plot()\n",
    "\n",
    "# Display the plot\n",
    "plt.show()\n"
   ]
  },
  {
   "cell_type": "code",
   "execution_count": null,
   "id": "e015a2b6-e5e3-4b87-918a-7042705aabfa",
   "metadata": {},
   "outputs": [],
   "source": [
    "car_sales"
   ]
  },
  {
   "cell_type": "code",
   "execution_count": null,
   "id": "d7e6da8b-b187-414f-a667-b2cfd821f7d2",
   "metadata": {},
   "outputs": [],
   "source": [
    "car_sales[\"price\"] = car_sales[\"Price\"].str.replace('[\\$\\,\\.]', '')\n",
    "car_sales"
   ]
  },
  {
   "cell_type": "code",
   "execution_count": null,
   "id": "aca91087-d383-4cc6-994b-adec3898c117",
   "metadata": {},
   "outputs": [],
   "source": [
    "import pandas as pd\n",
    "\n",
    "# Assuming car_sales DataFrame is already defined\n",
    "\n",
    "# Correctly remove '$', ',' and '.' from the 'Price' column\n",
    "car_sales[\"price\"] = car_sales[\"Price\"].replace({'\\$': '', '\\,': '', '\\.': ''}, regex=True)\n",
    "\n",
    "# Optionally, convert the 'price' column to numeric if needed\n",
    "car_sales[\"price\"] = pd.to_numeric(car_sales[\"price\"], errors='coerce')\n",
    "\n",
    "\n",
    "car_sales"
   ]
  },
  {
   "cell_type": "code",
   "execution_count": null,
   "id": "55ea86e8-2531-4c35-a014-652147d83639",
   "metadata": {},
   "outputs": [],
   "source": [
    "# Remove last two zeros\n",
    "\n",
    "car_sales[\"Price\"] = car_sales[\"price\"].astype(str).str[:-2]\n",
    "print(car_sales)"
   ]
  },
  {
   "cell_type": "code",
   "execution_count": null,
   "id": "f0f10144-9294-4a64-b9d1-4ea37fb36e38",
   "metadata": {},
   "outputs": [],
   "source": [
    "car_sales[\"Price\"] = car_sales[\"price\"].astype(str).str[:-2]\n",
    "print(car_sales)"
   ]
  },
  {
   "cell_type": "code",
   "execution_count": null,
   "id": "8eb13e1b-2fbf-4d4d-98d4-2f81f3f2b3f5",
   "metadata": {},
   "outputs": [],
   "source": [
    "car_sales[\"Sale Date\"] = pd.date_range(\"1/1/2020\", periods= len(car_sales))\n",
    "car_sales"
   ]
  },
  {
   "cell_type": "code",
   "execution_count": null,
   "id": "2b546a43-3fa1-41b1-ba80-d62f2a2d16be",
   "metadata": {},
   "outputs": [],
   "source": [
    "car_sales[\"Total Sales\"] = car_sales[\"Price\"].astype(int).cumsum()\n",
    "car_sales"
   ]
  },
  {
   "cell_type": "code",
   "execution_count": null,
   "id": "a05c7bad-b53f-432b-a153-752bafb4b25b",
   "metadata": {},
   "outputs": [],
   "source": [
    "car_sales[\"Price\"].dtype"
   ]
  },
  {
   "cell_type": "code",
   "execution_count": null,
   "id": "a1eaaf93-c167-419b-ab9c-d4cfbd16c7d7",
   "metadata": {},
   "outputs": [],
   "source": [
    "type(car_sales[\"Price\"][0])"
   ]
  },
  {
   "cell_type": "code",
   "execution_count": null,
   "id": "217f1da0-22ef-465f-9dde-02ff6db2f4eb",
   "metadata": {},
   "outputs": [],
   "source": [
    "type(car_sales[\"Price\"][0])"
   ]
  },
  {
   "cell_type": "code",
   "execution_count": null,
   "id": "bbf1ae59-918c-47ba-aeeb-1a69e0529124",
   "metadata": {},
   "outputs": [],
   "source": [
    "# Let's plot the total sales\n",
    "\n",
    "car_sales.plot(x=\"Sale Date\", y=\"Total Sales\");"
   ]
  },
  {
   "cell_type": "code",
   "execution_count": null,
   "id": "86bee1ca-44de-4858-8c7e-d1b114a0a571",
   "metadata": {},
   "outputs": [],
   "source": [
    "car_sales = car_sales.plot(x=\"Odometer (KM)\", y=\"Price\", kind=\"scatter\")\n"
   ]
  },
  {
   "cell_type": "code",
   "execution_count": null,
   "id": "0ce56ede-8290-40ed-8630-42901db635c5",
   "metadata": {},
   "outputs": [],
   "source": [
    "# Ressign Price Column To Int\n",
    "\n",
    "car_sales[\"Price\"] = car_sales[\"Price\"].astype(int)\n",
    "\n",
    "#Plot Scatter Plot with Price Column As Numeric\n",
    "\n",
    "car_sales.plot(x=\"Odometer (KM)\", y=\"Price\", kind=\"scatter\")"
   ]
  },
  {
   "cell_type": "code",
   "execution_count": null,
   "id": "91701762-9595-42ff-b45c-bf5603887c36",
   "metadata": {},
   "outputs": [],
   "source": [
    "# How about a bar graph\n",
    "\n",
    "x = np.random.rand(10,4)\n",
    "\n",
    "# Turn It Into A Dataframe\n",
    "\n",
    "df = pd.DataFrame(x, columns=['a','b','c','d'])\n",
    "df"
   ]
  },
  {
   "cell_type": "code",
   "execution_count": null,
   "id": "e74f2376-211c-4f1c-804f-ab5ef9efda3a",
   "metadata": {},
   "outputs": [],
   "source": [
    "df.plot.bar();"
   ]
  },
  {
   "cell_type": "code",
   "execution_count": null,
   "id": "2213eead-6233-4562-b40c-8047795546b7",
   "metadata": {},
   "outputs": [],
   "source": [
    "df.plot(kind=\"bar\");"
   ]
  },
  {
   "cell_type": "code",
   "execution_count": null,
   "id": "7bf21f64-e227-443c-b70f-55e71690d0cb",
   "metadata": {},
   "outputs": [],
   "source": [
    "car_sales"
   ]
  },
  {
   "cell_type": "code",
   "execution_count": null,
   "id": "4627a924-2554-408a-8c07-a11077603e74",
   "metadata": {},
   "outputs": [],
   "source": [
    "car_sales.plot(x=\"Make\", y=\"Odometer (KM)\", kind=\"bar\");"
   ]
  },
  {
   "cell_type": "code",
   "execution_count": null,
   "id": "90860cee-3649-4ade-8c57-b0ee618478fa",
   "metadata": {},
   "outputs": [],
   "source": [
    "car_sales.plot(x=\"Make\", y=\"Doors\", kind=\"bar\");"
   ]
  },
  {
   "cell_type": "code",
   "execution_count": null,
   "id": "f33d5a4c-2d48-4fb7-bee8-bdfc1a02b661",
   "metadata": {},
   "outputs": [],
   "source": [
    "car_sales.plot(x=\"Make\", y=\"Odometer (KM)\", kind=\"bar\");"
   ]
  },
  {
   "cell_type": "code",
   "execution_count": null,
   "id": "3452fb59-f1b1-4a51-840f-113677456bc2",
   "metadata": {},
   "outputs": [],
   "source": [
    "# How About Histogram\n",
    "\n",
    "car_sales[\"Odometer (KM)\"].plot.hist();"
   ]
  },
  {
   "cell_type": "code",
   "execution_count": null,
   "id": "f73c2fb0-c59f-415d-a8f0-4c7025ff9a06",
   "metadata": {},
   "outputs": [],
   "source": [
    "# How About Histogram\n",
    "\n",
    "car_sales[\"Doors\"].plot.hist();"
   ]
  },
  {
   "cell_type": "code",
   "execution_count": null,
   "id": "bb4f033e-879e-4c58-9bee-e91ee9f3e28b",
   "metadata": {},
   "outputs": [],
   "source": [
    "# How About Histogram\n",
    "\n",
    "car_sales[\"Price\"].plot.hist();"
   ]
  },
  {
   "cell_type": "code",
   "execution_count": null,
   "id": "21eafc71-4f87-4749-b124-9761cb77e0e1",
   "metadata": {},
   "outputs": [],
   "source": [
    "# How About Histogram\n",
    "\n",
    "car_sales[\"Total Sales\"].plot.hist();"
   ]
  },
  {
   "cell_type": "code",
   "execution_count": null,
   "id": "c505113d-02a9-4034-943f-012219b3b94a",
   "metadata": {},
   "outputs": [],
   "source": [
    "car_sales[\"Price\"].plot(kind=\"hist\");"
   ]
  },
  {
   "cell_type": "code",
   "execution_count": null,
   "id": "fbf14495-a194-452a-92b9-dc9db8b8fb2d",
   "metadata": {},
   "outputs": [],
   "source": [
    "car_sales[\"Odometer (KM)\"].plot.hist(bins=50);"
   ]
  },
  {
   "cell_type": "code",
   "execution_count": null,
   "id": "e032f6b9-7f6a-4df5-9300-f42813821666",
   "metadata": {},
   "outputs": [],
   "source": [
    "car_sales[\"Odometer (KM)\"].plot.hist(bins=10);"
   ]
  },
  {
   "cell_type": "code",
   "execution_count": null,
   "id": "78bb9853-e875-4305-ba57-12da72ab118d",
   "metadata": {},
   "outputs": [],
   "source": [
    "# Let's Try On Another Data Set\n",
    "\n",
    "heart_disease = pd.read_csv(\"heart-disease.csv\")\n",
    "heart_disease"
   ]
  },
  {
   "cell_type": "code",
   "execution_count": null,
   "id": "98b3b75a-2283-47f6-950a-5089e583df7b",
   "metadata": {},
   "outputs": [],
   "source": [
    "# Create A Histogram Of Age\n",
    "\n",
    "heart_disease[\"age\"].plot.hist();"
   ]
  },
  {
   "cell_type": "code",
   "execution_count": null,
   "id": "f1127a4d-3a97-485c-87ae-564434d728d8",
   "metadata": {},
   "outputs": [],
   "source": [
    "# Create A Histogram Of Age\n",
    "\n",
    "heart_disease[\"cp\"].plot.hist();"
   ]
  },
  {
   "cell_type": "code",
   "execution_count": null,
   "id": "01b9acd6-4649-49a7-95b5-5f3dc47fe160",
   "metadata": {},
   "outputs": [],
   "source": [
    "# Create A Histogram Of Age\n",
    "\n",
    "heart_disease[\"chol\"].plot.hist(bins=10);"
   ]
  },
  {
   "cell_type": "code",
   "execution_count": null,
   "id": "b2dfc5ae-78ed-4276-bd25-b06ad02a2faf",
   "metadata": {},
   "outputs": [],
   "source": [
    "heart_disease.head()"
   ]
  },
  {
   "cell_type": "code",
   "execution_count": null,
   "id": "e99c636a-3669-49a3-97f4-5cc5d6dfcd57",
   "metadata": {},
   "outputs": [],
   "source": [
    "heart_disease.plot.hist(figsize=(10,30),subplots= True);"
   ]
  },
  {
   "cell_type": "markdown",
   "id": "f82e498c-7723-4cdc-810c-17e944eafdfe",
   "metadata": {},
   "source": [
    "### Which one should I Use ? (pyplot Vs matplotlib oo method ?)\n",
    "\n",
    "\n",
    "* When plotting something quickly, okay to use the pyplot method\n",
    "\n",
    "* When plotting something more advanced, use the oo method"
   ]
  },
  {
   "cell_type": "code",
   "execution_count": null,
   "id": "9442cba0-4675-4eb2-9eec-8d829d6a49d8",
   "metadata": {},
   "outputs": [],
   "source": [
    "heart_disease.head()"
   ]
  },
  {
   "cell_type": "code",
   "execution_count": null,
   "id": "ddae5ee7-40b3-44a8-9dad-c9f5a7cae323",
   "metadata": {},
   "outputs": [],
   "source": [
    "over_50 = heart_disease[heart_disease[\"age\"] > 50]\n",
    "over_50.head()"
   ]
  },
  {
   "cell_type": "code",
   "execution_count": null,
   "id": "37498dd8-0fba-4e7d-88c0-d09d28098924",
   "metadata": {},
   "outputs": [],
   "source": [
    "below_50 = heart_disease[heart_disease[\"age\"] < 50]\n",
    "below_50.head()"
   ]
  },
  {
   "cell_type": "code",
   "execution_count": null,
   "id": "fa4de749-89ed-4e4f-ba9a-abc8f7a713a9",
   "metadata": {},
   "outputs": [],
   "source": [
    "over_60 = heart_disease[heart_disease[\"age\"] > 60]\n",
    "over_60.head()"
   ]
  },
  {
   "cell_type": "code",
   "execution_count": null,
   "id": "523de59c-4b21-4f8a-a7ba-36817e060f61",
   "metadata": {},
   "outputs": [],
   "source": [
    "below_50 = heart_disease[heart_disease[\"age\"] < 50]\n",
    "\n",
    "len(over_50)"
   ]
  },
  {
   "cell_type": "code",
   "execution_count": null,
   "id": "08297950-d389-4f06-9c00-18d609679864",
   "metadata": {},
   "outputs": [],
   "source": [
    "# pyplot method\n",
    "\n",
    "over_50.plot(kind='scatter',\n",
    "             x = 'age', \n",
    "             y = 'chol', \n",
    "             c = 'target');"
   ]
  },
  {
   "cell_type": "code",
   "execution_count": null,
   "id": "f2bf5c04-5d0b-47c5-927f-f5ab48395e07",
   "metadata": {},
   "outputs": [],
   "source": [
    "# oo Method mixed with pyplot method\n",
    "\n",
    "fig, ax = plt.subplots(figsize=(10,6))\n",
    "over_50.plot(kind='scatter',\n",
    "           x = 'age',\n",
    "           y = 'chol',\n",
    "           c = 'target',\n",
    "           ax = ax);\n"
   ]
  },
  {
   "cell_type": "code",
   "execution_count": null,
   "id": "e309a144-ea61-44d2-a237-b3b205b4ab61",
   "metadata": {},
   "outputs": [],
   "source": [
    "# OO method from scratch\n",
    "fig, ax = plt.subplots(figsize=(6, 6))  # Adjusted to have more reasonable dimensionsfig, ax = plt.subplots(figsize=(1,6))\n",
    "\n",
    "# Plot The Data\n",
    "\n",
    "scatter = ax.scatter(x=over_50[\"age\"],\n",
    "                     y=over_50[\"chol\"],\n",
    "                     c=over_50[\"target\"]);"
   ]
  },
  {
   "cell_type": "code",
   "execution_count": null,
   "id": "53e5cae0-a32b-4d5e-8650-8a905bf76569",
   "metadata": {},
   "outputs": [],
   "source": [
    "import matplotlib.pyplot as plt\n",
    "\n",
    "# Create a figure and axis object\n",
    "fig, ax = plt.subplots(figsize=(6, 6))  # Adjusted to have more reasonable dimensions\n",
    "\n",
    "# Plot the data\n",
    "scatter = ax.scatter(x=over_50[\"age\"],\n",
    "                     y=over_50[\"chol\"],\n",
    "                     c=over_50[\"target\"],\n",
    "                     cmap=\"viridis\")  # Added a colormap for better visualization\n",
    "\n",
    "# Add labels and title\n",
    "ax.set_title(\"Age vs Cholesterol Levels by Target\", fontsize=14)\n",
    "ax.set_xlabel(\"Age\", fontsize=12)\n",
    "ax.set_ylabel(\"Cholesterol Level\", fontsize=12)\n",
    "\n",
    "# Display the plot\n",
    "plt.show()\n"
   ]
  },
  {
   "cell_type": "code",
   "execution_count": null,
   "id": "eda203c6-a8ac-44ee-855a-ebea35d5b017",
   "metadata": {},
   "outputs": [],
   "source": [
    "import matplotlib.pyplot as plt\n",
    "\n",
    "# Create a figure and axis object\n",
    "fig, ax = plt.subplots(figsize=(6, 6))\n",
    "\n",
    "# Plot the data\n",
    "scatter = ax.scatter(x=over_50[\"age\"],\n",
    "                     y=over_50[\"chol\"],\n",
    "                     c=over_50[\"target\"],\n",
    "                     cmap=\"viridis\")  # Added a colormap for better visualization\n",
    "\n",
    "# Add labels and title\n",
    "ax.set_title(\"Age vs Cholesterol Levels by Target\", fontsize=14)\n",
    "ax.set_xlabel(\"Age\", fontsize=12)\n",
    "ax.set_ylabel(\"Cholesterol Level\", fontsize=12)\n",
    "\n",
    "# Add a Horizontal Line at the Mean Cholesterol Level\n",
    "mean_chol = over_50[\"chol\"].mean()\n",
    "ax.axhline(y=mean_chol, color=\"red\", linestyle=\"--\", label=f\"Mean Chol: {mean_chol:.2f}\")\n",
    "\n",
    "# Add a legend\n",
    "ax.legend()\n",
    "\n",
    "# Display the plot\n",
    "plt.show()\n"
   ]
  },
  {
   "cell_type": "code",
   "execution_count": null,
   "id": "ec3c14f6-9031-4f80-9038-3f192cbee247",
   "metadata": {},
   "outputs": [],
   "source": [
    "over_50.head()"
   ]
  },
  {
   "cell_type": "code",
   "execution_count": null,
   "id": "538c27f4-2490-4e80-80ca-ac4eec7db0ca",
   "metadata": {},
   "outputs": [],
   "source": [
    " # subplot  of chol, age, thalach\n",
    "\n",
    "fig, (ax0, ax1) = plt.subplots(nrows=2,\n",
    "                               ncols=1,\n",
    "                               figsize=(10,10))\n",
    "# Add data to ax0\n",
    "scatter = ax0.scatter(x=over_50[\"age\"],\n",
    "                      y=over_50[\"chol\"],\n",
    "                      c=ocver_50[\"target\"])\n",
    "#customize ax0\n",
    "ax0.set(title=\"Heart Disease And Cholesterol Levels\",\n",
    "        xlabel=\"Age\",\n",
    "        ylabel=\"Cholesterol\")\n",
    "# Add a legend to ax0\n",
    "\n",
    "ax0.legend(*scatter.legend_elements(), title=\"Target\")\n",
    "\n",
    "# Add a mean line\n",
    "\n",
    "ax0.axhline(y=over_50[\"chol\"].mean(),\n",
    "            linestyle=\"--\")"
   ]
  },
  {
   "cell_type": "code",
   "execution_count": null,
   "id": "e09935bd-750a-43dd-a522-1756cfd1bd5c",
   "metadata": {},
   "outputs": [],
   "source": [
    "import matplotlib.pyplot as plt\n",
    "\n",
    "# Assuming `over_50` is your DataFrame\n",
    "\n",
    "fig, (ax0, ax1) = plt.subplots(nrows=2, ncols=1, figsize=(10, 10))\n",
    "\n",
    "# Add data to ax0\n",
    "scatter = ax0.scatter(x=over_50[\"age\"],\n",
    "                      y=over_50[\"chol\"],\n",
    "                      c=over_50[\"target\"])\n",
    "\n",
    "# Customize ax0\n",
    "ax0.set(title=\"Heart Disease and Cholesterol Levels\",\n",
    "        xlabel=\"Age\",\n",
    "        ylabel=\"Cholesterol\")\n",
    "\n",
    "# Add a legend to ax0\n",
    "ax0.legend(*scatter.legend_elements(), title=\"Target\")\n",
    "\n",
    "# Add a mean line\n",
    "ax0.axhline(y=over_50[\"chol\"].mean(), linestyle=\"--\", color=\"red\", label=\"Mean Cholesterol\")\n",
    "\n",
    "# Adding legend for the mean line\n",
    "ax0.legend()\n",
    "\n",
    "# Customize ax1 (you may add specific details to ax1 if needed)\n",
    "ax1.set(title=\"Customize ax1 Title Here\",\n",
    "        xlabel=\"Customize X-axis Label\",\n",
    "        ylabel=\"Customize Y-axis Label\")\n",
    "\n",
    "# Optional: Show the plot\n",
    "plt.tight_layout()\n",
    "plt.show()\n"
   ]
  },
  {
   "cell_type": "markdown",
   "id": "4e670d7c-76e5-47f3-9abc-474c86a3da69",
   "metadata": {},
   "source": [
    "## Customizing Your Plots (Part 1)"
   ]
  },
  {
   "cell_type": "code",
   "execution_count": null,
   "id": "d7ea7ed1-27f7-42f6-9db0-13e8ddbe359a",
   "metadata": {},
   "outputs": [],
   "source": [
    "car_sales[\"Price\"].plot();"
   ]
  },
  {
   "cell_type": "code",
   "execution_count": null,
   "id": "77b06c34-2a88-4c77-9caa-f1f1aaa1a96b",
   "metadata": {},
   "outputs": [],
   "source": [
    "plt.style.available"
   ]
  },
  {
   "cell_type": "code",
   "execution_count": null,
   "id": "7f63fa51-8565-4495-bcdd-2fe4fcf1f69e",
   "metadata": {},
   "outputs": [],
   "source": [
    "plt.style.use('seaborn-v0_8-whitegrid')"
   ]
  },
  {
   "cell_type": "code",
   "execution_count": null,
   "id": "bc9ffa52-aa85-42ac-9568-4438043b3b03",
   "metadata": {},
   "outputs": [],
   "source": [
    "car_sales[\"Price\"].plot();"
   ]
  },
  {
   "cell_type": "code",
   "execution_count": null,
   "id": "068b1e7c-5ecc-4167-ae3f-4757efeb0057",
   "metadata": {},
   "outputs": [],
   "source": [
    "plt.style.use('seaborn-v0_8')"
   ]
  },
  {
   "cell_type": "code",
   "execution_count": null,
   "id": "5c337ded-1c47-4452-84c5-02c44874d55f",
   "metadata": {},
   "outputs": [],
   "source": [
    "car_sales[\"Price\"].plot();"
   ]
  },
  {
   "cell_type": "code",
   "execution_count": null,
   "id": "f4de9db9-9003-4841-a30a-03d6dc4a28b2",
   "metadata": {},
   "outputs": [],
   "source": [
    "car_sales.plot(x=\"Odometer (KM)\", y= \"Price\", kind = \"scatter\")"
   ]
  },
  {
   "cell_type": "code",
   "execution_count": null,
   "id": "1f2f56eb-6108-479d-9849-3532b8d6d2f6",
   "metadata": {},
   "outputs": [],
   "source": [
    "plt.style.use('ggplot')\n",
    "car_sales[\"Price\"].plot();"
   ]
  },
  {
   "cell_type": "code",
   "execution_count": null,
   "id": "89d8f254-814b-4efc-a40a-d2f6f1500b61",
   "metadata": {},
   "outputs": [],
   "source": [
    "# Create some data\n",
    "\n",
    "x = np.random.randn(10, 4)\n",
    "x\n"
   ]
  },
  {
   "cell_type": "code",
   "execution_count": null,
   "id": "e6b752a6-a859-43a8-89d0-2eee48958e6c",
   "metadata": {},
   "outputs": [],
   "source": [
    "df = pd.DataFrame(x, columns=['a','b','c','d'])\n",
    "df"
   ]
  },
  {
   "cell_type": "code",
   "execution_count": null,
   "id": "d7157eba-b85c-49b6-a81c-2a91c31d9b18",
   "metadata": {},
   "outputs": [],
   "source": [
    "ax = df.plot(kind='bar')\n",
    "type(ax)"
   ]
  },
  {
   "cell_type": "code",
   "execution_count": null,
   "id": "d964bd6a-0c6a-4a7c-9889-bd046600d152",
   "metadata": {},
   "outputs": [],
   "source": [
    "# Customize our plot with the set() method\n",
    "\n",
    "ax = df.plot(kind=\"bar\")\n",
    "# Add some labels ansd a title\n",
    "\n",
    "ax.set(title=\"Random Number Bar Graph From Dataframe\",\n",
    "                xlabel =  \"Row Number\",\n",
    "                ylabel = \"Random Number \")\n",
    "# Make the legend visible\n",
    "ax.legend().set_visible(True)"
   ]
  },
  {
   "cell_type": "code",
   "execution_count": null,
   "id": "8c08f17a-4e1f-4b1a-9d0f-f31d506139ca",
   "metadata": {},
   "outputs": [],
   "source": [
    "import matplotlib.pyplot as plt\n",
    "\n",
    "#Set the style \n",
    "\n",
    "plt.style.use('seaborn-v0_8-whitegrid')\n",
    "\n",
    "# Create a figure and axis object\n",
    "fig, ax = plt.subplots(figsize=(6, 6))\n",
    "\n",
    "# Plot the data\n",
    "scatter = ax.scatter(x=over_50[\"age\"],\n",
    "                     y=over_50[\"chol\"],\n",
    "                     c=over_50[\"target\"],\n",
    "                     cmap=\"winter\")  # Added a colormap for better visualization\n",
    "\n",
    "# Add labels and title\n",
    "ax.set_title(\"Age vs Cholesterol Levels by Target\", fontsize=14)\n",
    "ax.set_xlabel(\"Age\", fontsize=12)\n",
    "ax.set_ylabel(\"Cholesterol Level\", fontsize=12)\n",
    "\n",
    "# Add a Horizontal Line at the Mean Cholesterol Level\n",
    "mean_chol = over_50[\"chol\"].mean()\n",
    "ax.axhline(y=mean_chol, color=\"red\", linestyle=\"--\", label=f\"Mean Chol: {mean_chol:.2f}\")\n",
    "\n",
    "# Add a legend\n",
    "ax.legend()\n",
    "\n",
    "# Display the plot\n",
    "plt.show()\n"
   ]
  },
  {
   "cell_type": "code",
   "execution_count": null,
   "id": "7f65e6d3-5b20-48cf-a8fa-81ed9f6ddffa",
   "metadata": {},
   "outputs": [],
   "source": [
    "import matplotlib.pyplot as plt\n",
    "\n",
    "#Set the style \n",
    "\n",
    "plt.style.use('seaborn-v0_8-whitegrid')\n",
    "\n",
    "# Create a figure and axis object\n",
    "fig, ax = plt.subplots(figsize=(6, 6))\n",
    "\n",
    "# Plot the data\n",
    "scatter = ax.scatter(x=over_50[\"age\"],\n",
    "                     y=over_50[\"chol\"],\n",
    "                     c=over_50[\"target\"],\n",
    "                     cmap=\"plasma\")  # Added a colormap for better visualization\n",
    "\n",
    "# Add labels and title\n",
    "ax.set_title(\"Age vs Cholesterol Levels by Target\", fontsize=14)\n",
    "ax.set_xlabel(\"Age\", fontsize=12)\n",
    "ax.set_ylabel(\"Cholesterol Level\", fontsize=12)\n",
    "\n",
    "# Add a Horizontal Line at the Mean Cholesterol Level\n",
    "mean_chol = over_50[\"chol\"].mean()\n",
    "ax.axhline(y=mean_chol, color=\"red\", linestyle=\"--\", label=f\"Mean Chol: {mean_chol:.2f}\")\n",
    "\n",
    "# Add a legend\n",
    "ax.legend()\n",
    "\n",
    "# Display the plot\n",
    "plt.show()\n"
   ]
  },
  {
   "cell_type": "code",
   "execution_count": null,
   "id": "f5ef15aa-b83f-498d-af9b-1e05b710f795",
   "metadata": {},
   "outputs": [],
   "source": [
    "import matplotlib.pyplot as plt\n",
    "\n",
    "#Set the style \n",
    "\n",
    "plt.style.use('seaborn-v0_8-whitegrid')\n",
    "\n",
    "# Create a figure and axis object\n",
    "fig, ax = plt.subplots(figsize=(6, 6))\n",
    "\n",
    "# Plot the data\n",
    "scatter = ax.scatter(x=over_50[\"age\"],\n",
    "                     y=over_50[\"chol\"],\n",
    "                     c=over_50[\"target\"],\n",
    "                     cmap=\"summer\")  # Added a colormap for better visualization\n",
    "\n",
    "# Add labels and title\n",
    "ax.set_title(\"Age vs Cholesterol Levels by Target\", fontsize=14)\n",
    "ax.set_xlabel(\"Age\", fontsize=12)\n",
    "ax.set_ylabel(\"Cholesterol Level\", fontsize=12)\n",
    "\n",
    "# Add a Horizontal Line at the Mean Cholesterol Level\n",
    "mean_chol = over_50[\"chol\"].mean()\n",
    "ax.axhline(y=mean_chol, color=\"red\", linestyle=\"--\", label=f\"Mean Chol: {mean_chol:.2f}\")\n",
    "\n",
    "# Add a legend\n",
    "ax.legend()\n",
    "\n",
    "# Display the plot\n",
    "plt.show()\n"
   ]
  },
  {
   "cell_type": "code",
   "execution_count": 128,
   "id": "c0066778-c43c-4c53-9b18-ea6b710f52a8",
   "metadata": {},
   "outputs": [
    {
     "data": {
      "image/png": "[encoded data removed]",
      "text/plain": [
       "<Figure size 600x600 with 1 Axes>"
      ]
     },
     "metadata": {},
     "output_type": "display_data"
    },
    {
     "data": {
      "image/png": "[encoded data removed]",
      "text/plain": [
       "<Figure size 600x600 with 1 Axes>"
      ]
     },
     "metadata": {},
     "output_type": "display_data"
    }
   ],
   "source": [
    "import matplotlib.pyplot as plt\n",
    "\n",
    "#Set the style \n",
    "\n",
    "plt.style.use('seaborn-v0_8-whitegrid')\n",
    "\n",
    "# Create a figure and axis object\n",
    "fig, ax = plt.subplots(figsize=(6, 6))\n",
    "\n",
    "# Plot the data\n",
    "scatter = ax.scatter(x=over_50[\"age\"],\n",
    "                     y=over_50[\"chol\"],\n",
    "                     c=over_50[\"target\"],\n",
    "                     cmap=\"winter\")  # Added a colormap for better visualization\n",
    "\n",
    "# Add labels and title\n",
    "ax.set_title(\"Age vs Cholesterol Levels by Target\", fontsize=14)\n",
    "ax.set_xlabel(\"Age\", fontsize=12)\n",
    "ax.set_ylabel(\"Cholesterol Level\", fontsize=12)\n",
    "\n",
    "# Add a Horizontal Line at the Mean Cholesterol Level\n",
    "mean_chol = over_50[\"chol\"].mean()\n",
    "ax.axhline(y=mean_chol, color=\"red\", linestyle=\"--\", label=f\"Mean Chol: {mean_chol:.2f}\")\n",
    "\n",
    "# Add a legend\n",
    "ax.legend()\n",
    "\n",
    "# Display the plot\n",
    "plt.show()\n",
    "\n",
    "\n",
    "# Customizing the y & x axis limitation\n",
    "\n",
    "import matplotlib.pyplot as plt\n",
    "\n",
    "#Set the style \n",
    "\n",
    "plt.style.use('seaborn-v0_8-whitegrid')\n",
    "\n",
    "# Create a figure and axis object\n",
    "fig, ax = plt.subplots(figsize=(6, 6))\n",
    "\n",
    "# Plot the data\n",
    "scatter = ax.scatter(x=over_50[\"age\"],\n",
    "                     y=over_50[\"chol\"],\n",
    "                     c=over_50[\"target\"],\n",
    "                     cmap=\"winter\")  # Added a colormap for better visualization\n",
    "\n",
    "# Add labels and title\n",
    "ax.set_title(\"Age vs Cholesterol Levels by Target\", fontsize=14)\n",
    "ax.set_xlabel(\"Age\", fontsize=12)\n",
    "ax.set_ylabel(\"Cholesterol Level\", fontsize=12)\n",
    "\n",
    "# Add a Horizontal Line at the Mean Cholesterol Level\n",
    "mean_chol = over_50[\"chol\"].mean()\n",
    "ax.axhline(y=mean_chol, color=\"red\", linestyle=\"--\", label=f\"Mean Chol: {mean_chol:.2f}\")\n",
    "\n",
    "# Add a legend\n",
    "ax.legend()\n",
    "\n",
    "# Display the plot\n",
    "plt.show()\n"
   ]
  },
  {
   "cell_type": "code",
   "execution_count": 129,
   "id": "7d48e0a0-0a1f-4f45-bc18-7b8e62b438d2",
   "metadata": {},
   "outputs": [
    {
     "data": {
      "image/png": "[encoded data removed]",
      "text/plain": [
       "<Figure size 600x600 with 1 Axes>"
      ]
     },
     "execution_count": 129,
     "metadata": {},
     "output_type": "execute_result"
    }
   ],
   "source": [
    "fig\n"
   ]
  },
  {
   "cell_type": "code",
   "execution_count": 130,
   "id": "6ee27bd7-237d-4c38-b473-931e8dc5f327",
   "metadata": {},
   "outputs": [],
   "source": [
    "\n",
    "# Export the fig\n",
    "\n",
    "fig.savefig(\"hearrt-disease-analysis-plot-saved-with-code.png\")"
   ]
  },
  {
   "cell_type": "code",
   "execution_count": null,
   "id": "cf9b9dc4-ae61-44f4-acf7-51795626aa0a",
   "metadata": {},
   "outputs": [],
   "source": []
  }
 ],
 "metadata": {
  "kernelspec": {
   "display_name": "Python 3 (ipykernel)",
   "language": "python",
   "name": "python3"
  },
  "language_info": {
   "codemirror_mode": {
    "name": "ipython",
    "version": 3
   },
   "file_extension": ".py",
   "mimetype": "text/x-python",
   "name": "python",
   "nbconvert_exporter": "python",
   "pygments_lexer": "ipython3",
   "version": "3.12.8"
  }
 },
 "nbformat": 4,
 "nbformat_minor": 5
}
