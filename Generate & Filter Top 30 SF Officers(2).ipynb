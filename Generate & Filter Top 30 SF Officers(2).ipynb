{
 "cells": [
  {
   "cell_type": "markdown",
   "id": "3cece897-526a-4153-b335-31664c579922",
   "metadata": {},
   "source": [
    "## Akhilesh Pant"
   ]
  },
  {
   "cell_type": "markdown",
   "id": "579229a9-6f2e-4048-b8c5-d6c54ee3be1b",
   "metadata": {},
   "source": [
    "## Generate & Filter Top 30 SF Officers For Mission"
   ]
  },
  {
   "cell_type": "code",
   "execution_count": 25,
   "id": "9b1cee03-1d7c-461d-8851-7013c534a65a",
   "metadata": {},
   "outputs": [
    {
     "name": "stdout",
     "output_type": "stream",
     "text": [
      "                Name  Physical_Fitness  Marksmanship  Operational_Experience  \\\n",
      "3       Aman Rathore                91            94                      90   \n",
      "90  Siddharth Sharma                96            95                      97   \n",
      "21       Samar Gupta                78            88                      90   \n",
      "39        Aman Bisht                78            86                      88   \n",
      "45      Tarun Kapoor                88            94                      97   \n",
      "\n",
      "    Mental_Toughness  Tactical_Skills  Leadership_Teamwork  Total_Score  \n",
      "3                100               86                   83          544  \n",
      "90                93               73                   85          539  \n",
      "21                90               99                   88          533  \n",
      "39                96               86                   98          532  \n",
      "45                73              100                   79          531  \n"
     ]
    }
   ],
   "source": [
    "import pandas as pd\n",
    "\n",
    "# Load The Dataset\n",
    "df = pd.read_csv(\"SF_Officer_Selection_Dataset.csv\")\n",
    "\n",
    "# Sort by Total Score in decending order\n",
    "top_30 = df.sort_values(by=\"Total_Score\", ascending=False).head(30)\n",
    "\n",
    "# Save Top 30 to a new CSV file\n",
    "top_30.to_csv(\"Top_30_SF_Officers.csv\", index=False)\n",
    "\n",
    "# Show Top 5 rows as a perview\n",
    "print(top_30.head())\n"
   ]
  },
  {
   "cell_type": "code",
   "execution_count": 4,
   "id": "1cc2b704-1a74-4d6f-9f78-2337867d21ea",
   "metadata": {},
   "outputs": [],
   "source": [
    "# Sort by Total Score in decending order\n",
    "top_30 = df.sort_values(by=\"Total_Score\", ascending=False).head(30)"
   ]
  },
  {
   "cell_type": "markdown",
   "id": "17914f81-7df6-45dc-b29c-7483175aaa67",
   "metadata": {},
   "source": [
    "Great question, Akhilesh! Let’s break down this line of code:\n",
    "\n",
    "```python\n",
    "top_30 = df.sort_values(by=\"Total_Score\", ascending=False).head(30)\n",
    "```\n",
    "\n",
    "This line does **3 things** in one go. Let’s go step-by-step:\n",
    "\n",
    "---\n",
    "\n",
    "### 🧠 1. `df.sort_values(by=\"Total_Score\", ascending=False)`\n",
    "\n",
    "- 🔍 `df` is your full dataset of 100 SF officers.\n",
    "- 🔽 `.sort_values(by=\"Total_Score\", ascending=False)`:\n",
    "  - It **sorts all rows** of the dataset based on the column **`Total_Score`**.\n",
    "  - `ascending=False` means **highest scores come first** (descending order).\n",
    "  - If `ascending=True`, it would show lowest scores first (which we don’t want here).\n",
    "\n",
    "So after this step, you get the full list of 100 officers **sorted from highest to lowest Total_Score**.\n",
    "\n",
    "---\n",
    "\n",
    "### 🧠 2. `.head(30)`\n",
    "\n",
    "- This function selects the **first 30 rows** from the sorted list.\n",
    "- So you’re picking the **top 30 performers** based on `Total_Score`.\n",
    "\n",
    "---\n",
    "\n",
    "### ✅ 3. Assigning it to `top_30`\n",
    "\n",
    "- Now you’re **storing** those top 30 rows in a new variable named `top_30`, which contains the best candidates for the surgical strike.\n",
    "\n",
    "---\n",
    "\n",
    "### 🔁 Full Flow in Simple Terms:\n",
    "\n",
    "1. **Sort** the officers by total performance score (highest first)\n",
    "2. **Pick** the top 30\n",
    "3. **Store** those in a new list (`top_30`)\n",
    "\n",
    "---\n",
    "\n",
    "If you want, I can print a small example using sample data so you can visually see how it works. Want that?"
   ]
  },
  {
   "cell_type": "code",
   "execution_count": 12,
   "id": "a88020b5-5121-480a-bbc4-6fece5bcf9ec",
   "metadata": {},
   "outputs": [],
   "source": [
    "# Save Top 30 to a new CSV file\n",
    "top_30.to_csv(\"Top_30_SF_Officers.csv\", index=False)"
   ]
  },
  {
   "cell_type": "markdown",
   "id": "5e236b67-163d-42bf-bb65-24a1a7d5f043",
   "metadata": {},
   "source": [
    "Awesome follow-up, Akhilesh! Let’s break down this line too:\n",
    "\n",
    "```python\n",
    "top_30.to_csv(\"Top_30_SF_Officers.csv\", index=False)\n",
    "```\n",
    "\n",
    "This line saves the **top 30 SF officers** into a **new CSV file**. Here's what each part means:\n",
    "\n",
    "---\n",
    "\n",
    "### 🧠 `top_30.to_csv(\"Top_30_SF_Officers.csv\", index=False)`\n",
    "\n",
    "#### ✅ `top_30`\n",
    "- This is the DataFrame containing your **top 30 officers** (selected earlier based on their total scores).\n",
    "\n",
    "#### ✅ `.to_csv(\"Top_30_SF_Officers.csv\")`\n",
    "- This saves the `top_30` DataFrame to a **CSV file** named `\"Top_30_SF_Officers.csv\"`.\n",
    "- It writes all the columns (Name, Physical Fitness, etc.) into that file.\n",
    "\n",
    "---\n",
    "\n",
    "### ❓ Why `index=False`?\n",
    "\n",
    "By default, Pandas includes the **row index** (0, 1, 2, ...) when saving to CSV.\n",
    "\n",
    "#### 🔍 Example with `index=True` (default):\n",
    "```csv\n",
    ",index,Name,Physical_Fitness,...\n",
    "0,Arjun Singh,95,...\n",
    "1,Rohan Mehra,92,...\n",
    "```\n",
    "\n",
    "But you **already have all the meaningful data** in your columns — you **don’t need** that extra index column in the CSV file.\n",
    "\n",
    "#### ✅ With `index=False`, the CSV will look like:\n",
    "```csv\n",
    "Name,Physical_Fitness,Marksmanship,...\n",
    "Arjun Singh,95,87,...\n",
    "Rohan Mehra,92,89,...\n",
    "```\n",
    "\n",
    "This keeps your CSV **clean and professional** — especially useful if you're sharing it or importing into Excel, dashboards, or reports.\n",
    "\n",
    "---\n",
    "\n",
    "Let me know if you want to actually create and download this new `Top_30_SF_Officers.csv` file — I can generate it for you right here."
   ]
  }
 ],
 "metadata": {
  "kernelspec": {
   "display_name": "Python [conda env:base] *",
   "language": "python",
   "name": "conda-base-py"
  },
  "language_info": {
   "codemirror_mode": {
    "name": "ipython",
    "version": 3
   },
   "file_extension": ".py",
   "mimetype": "text/x-python",
   "name": "python",
   "nbconvert_exporter": "python",
   "pygments_lexer": "ipython3",
   "version": "3.12.7"
  }
 },
 "nbformat": 4,
 "nbformat_minor": 5
}
