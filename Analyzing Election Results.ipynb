{
 "cells": [
  {
   "cell_type": "markdown",
   "id": "fead3662-4c55-4446-8110-4475b4ca2486",
   "metadata": {},
   "source": [
    "## Akhilesh Pant (AU FTCA: MCA)"
   ]
  },
  {
   "cell_type": "markdown",
   "id": "4722a344-2fe8-43d0-9866-64c28647cdb3",
   "metadata": {},
   "source": [
    "## Project: Analyzing Election Results\n",
    "\n",
    "Imagine you have data from a recent state assembly election in India.\n",
    "\n",
    "1. Create lists to store party names, candidate names, and votes received in each constituency.\n",
    "2. Use operators to calculate the total votes for each party, identify the winning party in each constituency, and determine the overall election winner.\n",
    "3. Calculate vote share percentages and identify constituencies with close contests (small vote margins i.e. <12%).\n",
    "   \n",
    "\n"
   ]
  },
  {
   "cell_type": "code",
   "execution_count": 5,
   "id": "d0b9bda9-1781-418b-9c1f-e7b674873ed2",
   "metadata": {},
   "outputs": [],
   "source": [
    "import pandas as pd"
   ]
  },
  {
   "cell_type": "code",
   "execution_count": 15,
   "id": "7795a701-61fe-41e9-828d-01f297298f69",
   "metadata": {},
   "outputs": [],
   "source": [
    "Data = {\n",
    "    'Constituency': ['A','B','C','A','B','C','A','B','C'],\n",
    "    'Party': ['Party A', 'Party B', 'Party A', 'Party B', 'Party C', 'Party C', 'Party A', 'Party B', 'Party A'],\n",
    "    'Candidate': ['Rahul', 'Neeraj', 'Abhi', 'Diya', 'Ravi', 'Arun', 'Hemani','Tapti', 'Priyanka'],\n",
    "    'Votes': [15000, 12000, 18000, 13000, 10000, 11000, 17000,14000,16000]  \n",
    "}"
   ]
  },
  {
   "cell_type": "code",
   "execution_count": 17,
   "id": "f30207c6-b543-4dde-a9a3-9b2758f46819",
   "metadata": {},
   "outputs": [],
   "source": [
    "df = pd.DataFrame(Data)"
   ]
  },
  {
   "cell_type": "code",
   "execution_count": 19,
   "id": "dc531ad8-8c23-4d3c-aaf9-314922aed2c6",
   "metadata": {},
   "outputs": [
    {
     "name": "stdout",
     "output_type": "stream",
     "text": [
      "Total Votes Per Party:\n",
      " Party\n",
      "Party A    66000\n",
      "Party B    39000\n",
      "Party C    21000\n",
      "Name: Votes, dtype: int64\n"
     ]
    }
   ],
   "source": [
    "# Calculate total votes for each party\n",
    "\n",
    "total_votes_by_party = df.groupby('Party')['Votes'].sum()\n",
    "print(\"Total Votes Per Party:\\n\", total_votes_by_party)"
   ]
  },
  {
   "cell_type": "code",
   "execution_count": 35,
   "id": "74157627-fdc5-43e8-89f3-e6138985da1b",
   "metadata": {},
   "outputs": [
    {
     "name": "stdout",
     "output_type": "stream",
     "text": [
      "\n",
      " Winning Party by Constituency: \n",
      " Constituency\n",
      "A    17000\n",
      "B    14000\n",
      "C    18000\n",
      "dtype: int64\n"
     ]
    },
    {
     "name": "stderr",
     "output_type": "stream",
     "text": [
      "C:\\Users\\jagda\\AppData\\Local\\Temp\\ipykernel_15124\\898580016.py:6: DeprecationWarning: DataFrameGroupBy.apply operated on the grouping columns. This behavior is deprecated, and in a future version of pandas the grouping columns will be excluded from the operation. Either pass `include_groups=False` to exclude the groupings or explicitly select the grouping columns after groupby to silence this warning.\n",
      "  winning_party_by_constituency = df.groupby('Constituency').apply(get_winning_party)\n"
     ]
    }
   ],
   "source": [
    "# Identify the winning party in each constituency\n",
    "def get_winning_party(x): \n",
    "    return x.loc[x['Votes'].idxmax(), 'Votes']\n",
    "\n",
    "\n",
    "winning_party_by_constituency = df.groupby('Constituency').apply(get_winning_party)\n",
    "print(\"\\n Winning Party by Constituency: \\n\", winning_party_by_constituency)"
   ]
  },
  {
   "cell_type": "code",
   "execution_count": 37,
   "id": "6dab0cad-bcf0-4a5c-bd72-63d132ea5b52",
   "metadata": {},
   "outputs": [
    {
     "name": "stdout",
     "output_type": "stream",
     "text": [
      "\n",
      " Overall Election Winner: Party A\n"
     ]
    }
   ],
   "source": [
    "# Determine the overall election woinner\n",
    "overall_winner = total_votes_by_party.idxmax()\n",
    "print(\"\\n Overall Election Winner:\", overall_winner)"
   ]
  },
  {
   "cell_type": "code",
   "execution_count": 41,
   "id": "ab522e0d-56c1-4fb4-8961-97ffcfff285a",
   "metadata": {},
   "outputs": [
    {
     "name": "stdout",
     "output_type": "stream",
     "text": [
      "\n",
      " Vote share Percentages (%): \n",
      "   Constituency    Party Candidate  Votes  Vote_Share (%)\n",
      "0            A  Party A     Rahul  15000       11.904762\n",
      "1            B  Party B    Neeraj  12000        9.523810\n",
      "2            C  Party A      Abhi  18000       14.285714\n",
      "3            A  Party B      Diya  13000       10.317460\n",
      "4            B  Party C      Ravi  10000        7.936508\n",
      "5            C  Party C      Arun  11000        8.730159\n",
      "6            A  Party A    Hemani  17000       13.492063\n",
      "7            B  Party B     Tapti  14000       11.111111\n",
      "8            C  Party A  Priyanka  16000       12.698413\n"
     ]
    }
   ],
   "source": [
    "# Calculate vote share percentages\n",
    "total_votes = df['Votes'].sum()\n",
    "df['Vote_Share (%)'] = (df['Votes'] / total_votes) * 100 \n",
    "print(\"\\n Vote share Percentages (%): \\n\", df)"
   ]
  },
  {
   "cell_type": "code",
   "execution_count": 51,
   "id": "ed45982c-18bc-4997-8857-5c758541bdca",
   "metadata": {},
   "outputs": [
    {
     "name": "stdout",
     "output_type": "stream",
     "text": [
      "\n",
      " Constituencies with Close Contests:   Constituency    Party Candidate  Votes  Vote_Share (%)\n",
      "0            A  Party A     Rahul  15000       11.904762\n",
      "2            C  Party A      Abhi  18000       14.285714\n",
      "3            A  Party B      Diya  13000       10.317460\n",
      "5            C  Party C      Arun  11000        8.730159\n",
      "6            A  Party A    Hemani  17000       13.492063\n",
      "8            C  Party A  Priyanka  16000       12.698413\n"
     ]
    }
   ],
   "source": [
    "# identify constituencies with close contests (small vote margins i.e. <12%)\n",
    "def close_contest(x):\n",
    "    vote_counts = x['Votes'].values\n",
    "    if len(vote_counts) > 1:\n",
    "        vote_counts.sort() # Sort the votes counts within the constituency\n",
    "        margin = (vote_counts[-1] - vote_counts[-2]) / vote_counts[-1] * 100\n",
    "        return margin < 12.0\n",
    "    else:\n",
    "        return False\n",
    "        \n",
    "close_constituencies = df.groupby('Constituency').filter(close_contest)\n",
    "print(\"\\n Constituencies with Close Contests:\", close_constituencies)"
   ]
  },
  {
   "cell_type": "code",
   "execution_count": null,
   "id": "8b825945-0488-493a-9537-676953c1f045",
   "metadata": {},
   "outputs": [],
   "source": []
  }
 ],
 "metadata": {
  "kernelspec": {
   "display_name": "Python [conda env:base] *",
   "language": "python",
   "name": "conda-base-py"
  },
  "language_info": {
   "codemirror_mode": {
    "name": "ipython",
    "version": 3
   },
   "file_extension": ".py",
   "mimetype": "text/x-python",
   "name": "python",
   "nbconvert_exporter": "python",
   "pygments_lexer": "ipython3",
   "version": "3.12.7"
  }
 },
 "nbformat": 4,
 "nbformat_minor": 5
}
