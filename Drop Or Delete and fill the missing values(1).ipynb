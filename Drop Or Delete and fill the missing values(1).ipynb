{
 "cells": [
  {
   "cell_type": "markdown",
   "id": "d9929dcc-030a-4ba7-8e1f-d60d81161e9d",
   "metadata": {},
   "source": [
    "## Akhilesh Pant (AU FTCA: MCA)\n"
   ]
  },
  {
   "cell_type": "code",
   "execution_count": 1,
   "id": "614efa03-bdd2-45fa-93d0-3a5c8779da2d",
   "metadata": {},
   "outputs": [
    {
     "name": "stdout",
     "output_type": "stream",
     "text": [
      "Original DataFrame:\n",
      "    Name   Age         City\n",
      "0  Alice  25.0     New York\n",
      "1    Bob   NaN  Los Angeles\n",
      "2   None  30.0         None\n",
      "3  David  35.0      Chicago\n",
      "\n",
      "DataFrame after dropping rows with missing values:\n",
      "    Name   Age      City\n",
      "0  Alice  25.0  New York\n",
      "3  David  35.0   Chicago\n",
      "\n",
      "DataFrame after dropping columns with missing values:\n",
      "Empty DataFrame\n",
      "Columns: []\n",
      "Index: [0, 1, 2, 3]\n",
      "\n",
      "DataFrame after filling missing values with 'Unknown':\n",
      "      Name      Age         City\n",
      "0    Alice     25.0     New York\n",
      "1      Bob  Unknown  Los Angeles\n",
      "2  Unknown     30.0      Unknown\n",
      "3    David     35.0      Chicago\n"
     ]
    }
   ],
   "source": [
    "# Importing pandas\n",
    "import pandas as pd\n",
    "\n",
    "# Sample DataFrame with missing values\n",
    "data = {\n",
    "    'Name': ['Alice', 'Bob', None, 'David'],\n",
    "    'Age': [25, None, 30, 35],\n",
    "    'City': ['New York', 'Los Angeles', None, 'Chicago']\n",
    "}\n",
    "\n",
    "df = pd.DataFrame(data)\n",
    "\n",
    "# Display the original DataFrame\n",
    "print(\"Original DataFrame:\")\n",
    "print(df)\n",
    "\n",
    "# Dropping rows with missing values\n",
    "df_dropped = df.dropna()\n",
    "print(\"\\nDataFrame after dropping rows with missing values:\")\n",
    "print(df_dropped)\n",
    "\n",
    "# Dropping columns with missing values\n",
    "df_dropped_columns = df.dropna(axis=1)\n",
    "print(\"\\nDataFrame after dropping columns with missing values:\")\n",
    "print(df_dropped_columns)\n",
    "\n",
    "# Deleting missing values by filling them with a default value\n",
    "df_filled = df.fillna(\"Unknown\")\n",
    "print(\"\\nDataFrame after filling missing values with 'Unknown':\")\n",
    "print(df_filled)\n"
   ]
  }
 ],
 "metadata": {
  "kernelspec": {
   "display_name": "Python [conda env:base] *",
   "language": "python",
   "name": "conda-base-py"
  },
  "language_info": {
   "codemirror_mode": {
    "name": "ipython",
    "version": 3
   },
   "file_extension": ".py",
   "mimetype": "text/x-python",
   "name": "python",
   "nbconvert_exporter": "python",
   "pygments_lexer": "ipython3",
   "version": "3.12.7"
  }
 },
 "nbformat": 4,
 "nbformat_minor": 5
}
