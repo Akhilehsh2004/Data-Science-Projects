{
 "cells": [
  {
   "cell_type": "markdown",
   "id": "25614a26-c52a-4fbe-a3d6-3abccf7b469e",
   "metadata": {},
   "source": [
    "## Read External File"
   ]
  },
  {
   "cell_type": "code",
   "execution_count": null,
   "id": "0486f2a6-d7b4-421a-ba4c-63ebcc04ee98",
   "metadata": {},
   "outputs": [],
   "source": [
    "# Import pandas libray\n",
    "import pandas as pd\n",
    "     \n",
    "\n",
    "# Read CSV file\n",
    "csv_file = pd.read_csv('https://github.com/YBIFoundation/Dataset/raw/main/Titanic.csv')\n",
    "csv_file"
   ]
  },
  {
   "cell_type": "code",
   "execution_count": null,
   "id": "6b87ba08-c902-4a51-9306-b4437d29a4de",
   "metadata": {},
   "outputs": [],
   "source": [
    "# Read Excel file\n",
    "excel_file = pd.read_excel('https://github.com/YBIFoundation/Dataset/raw/main/Titanic.xlsx')\n",
    "excel_file"
   ]
  },
  {
   "cell_type": "code",
   "execution_count": null,
   "id": "78952f8d-02b9-4476-939e-17f1701b2230",
   "metadata": {},
   "outputs": [],
   "source": [
    "# Read JSON file\n",
    "json_file = pd.read_json('https://github.com/YBIFoundation/Dataset/raw/main/Titanic.json')\n",
    "json_file"
   ]
  },
  {
   "cell_type": "markdown",
   "id": "ef8f82b1-b304-4785-b9ed-aa5987046572",
   "metadata": {},
   "source": [
    "## Practice Problem"
   ]
  },
  {
   "cell_type": "markdown",
   "id": "4b1062ac-3d84-446d-8a0f-a1e9bdf61867",
   "metadata": {},
   "source": [
    "### Practice Problem 1: Read Chance of Admission CSV File"
   ]
  },
  {
   "cell_type": "code",
   "execution_count": null,
   "id": "f1f7c4a1-5b47-4258-a5e7-6ab07be98473",
   "metadata": {},
   "outputs": [],
   "source": [
    "\n",
    "# Read CSV file\n",
    "admission = pd.read_csv('https://github.com/YBIFoundation/Dataset/raw/main/Admission%20Chance.csv')\n",
    "admission"
   ]
  },
  {
   "cell_type": "markdown",
   "id": "2e160720-e09b-47da-b152-4381420d5a1d",
   "metadata": {},
   "source": [
    "## Practice problem 2: Read Semicolon CSV"
   ]
  },
  {
   "cell_type": "code",
   "execution_count": null,
   "id": "f80a379f-43e0-4b6c-a578-eb163e06b76e",
   "metadata": {},
   "outputs": [],
   "source": [
    "# Read CSV file\n",
    "titanic_semicolon = pd.read_csv('https://github.com/YBIFoundation/Dataset/raw/main/Titanic%20Semicolon.csv',delimiter=';')\n",
    "titanic_semicolon"
   ]
  },
  {
   "cell_type": "markdown",
   "id": "0f13ce9c-9288-4b9c-ba58-4fdb5b8710c5",
   "metadata": {},
   "source": [
    "## 🐌Exercise"
   ]
  },
  {
   "cell_type": "markdown",
   "id": "fde2145b-ee94-497b-b8aa-d609b1b87578",
   "metadata": {},
   "source": [
    "### Exercise 1: Read Bank Churn Data\n",
    "Datset Url: https://github.com/YBIFoundation/Dataset/blob/main/Bank%20Churn%20Modelling.csv"
   ]
  },
  {
   "cell_type": "code",
   "execution_count": null,
   "id": "a2f5de39-6160-45b7-b674-b7bab581801f",
   "metadata": {},
   "outputs": [],
   "source": [
    "import pandas as pd\n",
    "\n",
    "url = 'https://raw.githubusercontent.com/YBIFoundation/Dataset/main/Bank%20Churn%20Modelling.csv'\n",
    "data = pd.read_csv(url)\n",
    "\n",
    "# Display the first few rows of the dataset\n",
    "print(data.head())\n"
   ]
  },
  {
   "cell_type": "markdown",
   "id": "e67a05c0-717b-445a-b2f8-c7da4e7e878c",
   "metadata": {},
   "source": [
    "### Exercise 2: Read Population Data\n",
    "\n",
    "Dataset Url: https://github.com/YBIFoundation/Dataset/blob/main/Population2030-2040.xlsx"
   ]
  },
  {
   "cell_type": "code",
   "execution_count": null,
   "id": "a750e525-4dbd-4467-b4e1-9164e851df23",
   "metadata": {},
   "outputs": [],
   "source": [
    "import pandas as pd\n",
    "\n",
    "# Correct raw URL for the Excel file\n",
    "url = 'https://raw.githubusercontent.com/YBIFoundation/Dataset/main/Population2030-2040.xlsx'\n",
    "\n",
    "# Read the Excel file\n",
    "data = pd.read_excel(url)\n",
    "\n",
    "# Display the first few rows of the dataset\n",
    "print(data.head())"
   ]
  },
  {
   "cell_type": "markdown",
   "id": "184c2c68-6f84-4043-bad0-cdbef9e55d65",
   "metadata": {},
   "source": [
    "## Using The append() Method Dynamically\n",
    "\n",
    "Create an empty list and add elements one by one using the append() method."
   ]
  },
  {
   "cell_type": "code",
   "execution_count": 1,
   "id": "c3dad00c-45bc-4db4-878d-cddf3d99fc01",
   "metadata": {},
   "outputs": [
    {
     "data": {
      "text/plain": [
       "['Jai', 'Hind']"
      ]
     },
     "execution_count": 1,
     "metadata": {},
     "output_type": "execute_result"
    }
   ],
   "source": [
    "# Dynamicallt Adding Elements\n",
    "\n",
    "dynamic_list = []\n",
    "dynamic_list.append(\"Jai\")\n",
    "dynamic_list.append(\"Hind\")\n",
    "dynamic_list"
   ]
  },
  {
   "cell_type": "markdown",
   "id": "beb99167-5876-48cc-9b98-3f827ee5fa05",
   "metadata": {},
   "source": [
    "## Using Genarators And List()\n",
    "\n",
    "Generators can be converted into lists using the list() constructor."
   ]
  },
  {
   "cell_type": "code",
   "execution_count": 13,
   "id": "def8c886-9e62-4a29-b2e8-206965a1af19",
   "metadata": {},
   "outputs": [
    {
     "data": {
      "text/plain": [
       "[1, 2, 3, 4, 5]"
      ]
     },
     "execution_count": 13,
     "metadata": {},
     "output_type": "execute_result"
    }
   ],
   "source": [
    "# Generator For Numbers From 1 To 5\n",
    "\n",
    "generator = (x for x in range (1, 6))\n",
    "list_from_generator = list(generator)\n",
    "list_from_generator\n",
    "              "
   ]
  },
  {
   "cell_type": "markdown",
   "id": "2ece6217-73e8-4008-9224-072e4f81ae9c",
   "metadata": {},
   "source": [
    "## Using A Nested List\n",
    "\n",
    "A nested list (list within a list) can be directly created or built dynamically"
   ]
  },
  {
   "cell_type": "code",
   "execution_count": 16,
   "id": "0a7ad0e8-03d4-4944-b140-dc0db2e746f3",
   "metadata": {},
   "outputs": [
    {
     "data": {
      "text/plain": [
       "[['Delhi', 'Mumbai'], ['Chennai', 'kolkat']]"
      ]
     },
     "execution_count": 16,
     "metadata": {},
     "output_type": "execute_result"
    }
   ],
   "source": [
    "# Static Nested List\n",
    "\n",
    "nested_list = [[\"Delhi\", \"Mumbai\"], [\"Chennai\", \"kolkat\"]]\n",
    "nested_list"
   ]
  },
  {
   "cell_type": "code",
   "execution_count": 18,
   "id": "ccef2983-a78e-48fa-91a9-7c35e714aabd",
   "metadata": {},
   "outputs": [
    {
     "data": {
      "text/plain": [
       "[[0, 1, 2], [1, 2, 3], [2, 3, 4]]"
      ]
     },
     "execution_count": 18,
     "metadata": {},
     "output_type": "execute_result"
    }
   ],
   "source": [
    "# Dynamic Nested List\n",
    "\n",
    "outer_list = []\n",
    "for i in range (3):\n",
    "    inner_list = list(range(i, i + 3))\n",
    "    outer_list.append(inner_list)\n",
    "outer_list"
   ]
  },
  {
   "cell_type": "code",
   "execution_count": null,
   "id": "79832a77-9dcd-4666-92a7-54a8caca89d5",
   "metadata": {},
   "outputs": [],
   "source": []
  }
 ],
 "metadata": {
  "kernelspec": {
   "display_name": "Python [conda env:base] *",
   "language": "python",
   "name": "conda-base-py"
  },
  "language_info": {
   "codemirror_mode": {
    "name": "ipython",
    "version": 3
   },
   "file_extension": ".py",
   "mimetype": "text/x-python",
   "name": "python",
   "nbconvert_exporter": "python",
   "pygments_lexer": "ipython3",
   "version": "3.12.7"
  }
 },
 "nbformat": 4,
 "nbformat_minor": 5
}
